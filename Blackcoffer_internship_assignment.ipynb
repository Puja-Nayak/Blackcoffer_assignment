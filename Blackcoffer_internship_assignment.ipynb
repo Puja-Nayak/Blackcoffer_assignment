{
  "nbformat": 4,
  "nbformat_minor": 0,
  "metadata": {
    "colab": {
      "provenance": [],
      "mount_file_id": "1x978_in_QxioNu9zKgGjysto_oklje-O",
      "authorship_tag": "ABX9TyMz/MF4cL6FvVE52ZiL86V0",
      "include_colab_link": true
    },
    "kernelspec": {
      "name": "python3",
      "display_name": "Python 3"
    },
    "language_info": {
      "name": "python"
    }
  },
  "cells": [
    {
      "cell_type": "markdown",
      "metadata": {
        "id": "view-in-github",
        "colab_type": "text"
      },
      "source": [
        "<a href=\"https://colab.research.google.com/github/Puja-Nayak/Blackcoffer_assignment/blob/main/Blackcoffer_internship_assignment.ipynb\" target=\"_parent\"><img src=\"https://colab.research.google.com/assets/colab-badge.svg\" alt=\"Open In Colab\"/></a>"
      ]
    },
    {
      "cell_type": "code",
      "source": [
        "from google.colab import drive\n",
        "drive.mount('/content/drive')\n"
      ],
      "metadata": {
        "colab": {
          "base_uri": "https://localhost:8080/"
        },
        "id": "epuFFvqPKnhU",
        "outputId": "7a0f8f5b-ccf5-48a4-e8b2-1e41961ba90f"
      },
      "execution_count": null,
      "outputs": [
        {
          "output_type": "stream",
          "name": "stdout",
          "text": [
            "Drive already mounted at /content/drive; to attempt to forcibly remount, call drive.mount(\"/content/drive\", force_remount=True).\n"
          ]
        }
      ]
    },
    {
      "cell_type": "code",
      "source": [
        "import pandas as pd\n",
        "import requests\n",
        "from bs4 import BeautifulSoup\n",
        "import numpy as np\n",
        "from google.colab import files"
      ],
      "metadata": {
        "id": "4UaRBhZnMMOL"
      },
      "execution_count": null,
      "outputs": []
    },
    {
      "cell_type": "code",
      "source": [
        "from google.colab import drive\n",
        "drive.mount('/content/drive')"
      ],
      "metadata": {
        "colab": {
          "base_uri": "https://localhost:8080/"
        },
        "id": "b1Sy7fM-1prm",
        "outputId": "888c637e-d050-477c-e602-836c576d6133"
      },
      "execution_count": null,
      "outputs": [
        {
          "output_type": "stream",
          "name": "stdout",
          "text": [
            "Drive already mounted at /content/drive; to attempt to forcibly remount, call drive.mount(\"/content/drive\", force_remount=True).\n"
          ]
        }
      ]
    },
    {
      "cell_type": "code",
      "source": [
        "df=pd.read_excel('/content/drive/MyDrive/Colab Notebooks/20211030 Test Assignment/Input.xlsx')[['URL_ID','URL']]\n"
      ],
      "metadata": {
        "id": "xpaaXft_1t9E"
      },
      "execution_count": null,
      "outputs": []
    },
    {
      "cell_type": "code",
      "source": [
        "df=df.iloc[0:150]\n"
      ],
      "metadata": {
        "id": "iASQrs0E2iU_"
      },
      "execution_count": null,
      "outputs": []
    },
    {
      "cell_type": "code",
      "source": [
        "df"
      ],
      "metadata": {
        "colab": {
          "base_uri": "https://localhost:8080/",
          "height": 423
        },
        "id": "Zq4ALhGi2pJr",
        "outputId": "edcdcf88-58cd-4dc5-b6fe-0cbb064a8e65"
      },
      "execution_count": null,
      "outputs": [
        {
          "output_type": "execute_result",
          "data": {
            "text/plain": [
              "     URL_ID                                                URL\n",
              "0      37.0  https://insights.blackcoffer.com/ai-in-healthc...\n",
              "1      38.0  https://insights.blackcoffer.com/what-if-the-c...\n",
              "2      39.0  https://insights.blackcoffer.com/what-jobs-wil...\n",
              "3      40.0  https://insights.blackcoffer.com/will-machine-...\n",
              "4      41.0  https://insights.blackcoffer.com/will-ai-repla...\n",
              "..      ...                                                ...\n",
              "109   146.0  https://insights.blackcoffer.com/blockchain-fo...\n",
              "110   147.0  https://insights.blackcoffer.com/the-future-of...\n",
              "111   148.0  https://insights.blackcoffer.com/big-data-anal...\n",
              "112   149.0  https://insights.blackcoffer.com/business-anal...\n",
              "113   150.0  https://insights.blackcoffer.com/challenges-an...\n",
              "\n",
              "[114 rows x 2 columns]"
            ],
            "text/html": [
              "\n",
              "  <div id=\"df-761f9e8d-5854-45f3-81c9-d29fa68a1e6c\">\n",
              "    <div class=\"colab-df-container\">\n",
              "      <div>\n",
              "<style scoped>\n",
              "    .dataframe tbody tr th:only-of-type {\n",
              "        vertical-align: middle;\n",
              "    }\n",
              "\n",
              "    .dataframe tbody tr th {\n",
              "        vertical-align: top;\n",
              "    }\n",
              "\n",
              "    .dataframe thead th {\n",
              "        text-align: right;\n",
              "    }\n",
              "</style>\n",
              "<table border=\"1\" class=\"dataframe\">\n",
              "  <thead>\n",
              "    <tr style=\"text-align: right;\">\n",
              "      <th></th>\n",
              "      <th>URL_ID</th>\n",
              "      <th>URL</th>\n",
              "    </tr>\n",
              "  </thead>\n",
              "  <tbody>\n",
              "    <tr>\n",
              "      <th>0</th>\n",
              "      <td>37.0</td>\n",
              "      <td>https://insights.blackcoffer.com/ai-in-healthc...</td>\n",
              "    </tr>\n",
              "    <tr>\n",
              "      <th>1</th>\n",
              "      <td>38.0</td>\n",
              "      <td>https://insights.blackcoffer.com/what-if-the-c...</td>\n",
              "    </tr>\n",
              "    <tr>\n",
              "      <th>2</th>\n",
              "      <td>39.0</td>\n",
              "      <td>https://insights.blackcoffer.com/what-jobs-wil...</td>\n",
              "    </tr>\n",
              "    <tr>\n",
              "      <th>3</th>\n",
              "      <td>40.0</td>\n",
              "      <td>https://insights.blackcoffer.com/will-machine-...</td>\n",
              "    </tr>\n",
              "    <tr>\n",
              "      <th>4</th>\n",
              "      <td>41.0</td>\n",
              "      <td>https://insights.blackcoffer.com/will-ai-repla...</td>\n",
              "    </tr>\n",
              "    <tr>\n",
              "      <th>...</th>\n",
              "      <td>...</td>\n",
              "      <td>...</td>\n",
              "    </tr>\n",
              "    <tr>\n",
              "      <th>109</th>\n",
              "      <td>146.0</td>\n",
              "      <td>https://insights.blackcoffer.com/blockchain-fo...</td>\n",
              "    </tr>\n",
              "    <tr>\n",
              "      <th>110</th>\n",
              "      <td>147.0</td>\n",
              "      <td>https://insights.blackcoffer.com/the-future-of...</td>\n",
              "    </tr>\n",
              "    <tr>\n",
              "      <th>111</th>\n",
              "      <td>148.0</td>\n",
              "      <td>https://insights.blackcoffer.com/big-data-anal...</td>\n",
              "    </tr>\n",
              "    <tr>\n",
              "      <th>112</th>\n",
              "      <td>149.0</td>\n",
              "      <td>https://insights.blackcoffer.com/business-anal...</td>\n",
              "    </tr>\n",
              "    <tr>\n",
              "      <th>113</th>\n",
              "      <td>150.0</td>\n",
              "      <td>https://insights.blackcoffer.com/challenges-an...</td>\n",
              "    </tr>\n",
              "  </tbody>\n",
              "</table>\n",
              "<p>114 rows × 2 columns</p>\n",
              "</div>\n",
              "      <button class=\"colab-df-convert\" onclick=\"convertToInteractive('df-761f9e8d-5854-45f3-81c9-d29fa68a1e6c')\"\n",
              "              title=\"Convert this dataframe to an interactive table.\"\n",
              "              style=\"display:none;\">\n",
              "        \n",
              "  <svg xmlns=\"http://www.w3.org/2000/svg\" height=\"24px\"viewBox=\"0 0 24 24\"\n",
              "       width=\"24px\">\n",
              "    <path d=\"M0 0h24v24H0V0z\" fill=\"none\"/>\n",
              "    <path d=\"M18.56 5.44l.94 2.06.94-2.06 2.06-.94-2.06-.94-.94-2.06-.94 2.06-2.06.94zm-11 1L8.5 8.5l.94-2.06 2.06-.94-2.06-.94L8.5 2.5l-.94 2.06-2.06.94zm10 10l.94 2.06.94-2.06 2.06-.94-2.06-.94-.94-2.06-.94 2.06-2.06.94z\"/><path d=\"M17.41 7.96l-1.37-1.37c-.4-.4-.92-.59-1.43-.59-.52 0-1.04.2-1.43.59L10.3 9.45l-7.72 7.72c-.78.78-.78 2.05 0 2.83L4 21.41c.39.39.9.59 1.41.59.51 0 1.02-.2 1.41-.59l7.78-7.78 2.81-2.81c.8-.78.8-2.07 0-2.86zM5.41 20L4 18.59l7.72-7.72 1.47 1.35L5.41 20z\"/>\n",
              "  </svg>\n",
              "      </button>\n",
              "      \n",
              "  <style>\n",
              "    .colab-df-container {\n",
              "      display:flex;\n",
              "      flex-wrap:wrap;\n",
              "      gap: 12px;\n",
              "    }\n",
              "\n",
              "    .colab-df-convert {\n",
              "      background-color: #E8F0FE;\n",
              "      border: none;\n",
              "      border-radius: 50%;\n",
              "      cursor: pointer;\n",
              "      display: none;\n",
              "      fill: #1967D2;\n",
              "      height: 32px;\n",
              "      padding: 0 0 0 0;\n",
              "      width: 32px;\n",
              "    }\n",
              "\n",
              "    .colab-df-convert:hover {\n",
              "      background-color: #E2EBFA;\n",
              "      box-shadow: 0px 1px 2px rgba(60, 64, 67, 0.3), 0px 1px 3px 1px rgba(60, 64, 67, 0.15);\n",
              "      fill: #174EA6;\n",
              "    }\n",
              "\n",
              "    [theme=dark] .colab-df-convert {\n",
              "      background-color: #3B4455;\n",
              "      fill: #D2E3FC;\n",
              "    }\n",
              "\n",
              "    [theme=dark] .colab-df-convert:hover {\n",
              "      background-color: #434B5C;\n",
              "      box-shadow: 0px 1px 3px 1px rgba(0, 0, 0, 0.15);\n",
              "      filter: drop-shadow(0px 1px 2px rgba(0, 0, 0, 0.3));\n",
              "      fill: #FFFFFF;\n",
              "    }\n",
              "  </style>\n",
              "\n",
              "      <script>\n",
              "        const buttonEl =\n",
              "          document.querySelector('#df-761f9e8d-5854-45f3-81c9-d29fa68a1e6c button.colab-df-convert');\n",
              "        buttonEl.style.display =\n",
              "          google.colab.kernel.accessAllowed ? 'block' : 'none';\n",
              "\n",
              "        async function convertToInteractive(key) {\n",
              "          const element = document.querySelector('#df-761f9e8d-5854-45f3-81c9-d29fa68a1e6c');\n",
              "          const dataTable =\n",
              "            await google.colab.kernel.invokeFunction('convertToInteractive',\n",
              "                                                     [key], {});\n",
              "          if (!dataTable) return;\n",
              "\n",
              "          const docLinkHtml = 'Like what you see? Visit the ' +\n",
              "            '<a target=\"_blank\" href=https://colab.research.google.com/notebooks/data_table.ipynb>data table notebook</a>'\n",
              "            + ' to learn more about interactive tables.';\n",
              "          element.innerHTML = '';\n",
              "          dataTable['output_type'] = 'display_data';\n",
              "          await google.colab.output.renderOutput(dataTable, element);\n",
              "          const docLink = document.createElement('div');\n",
              "          docLink.innerHTML = docLinkHtml;\n",
              "          element.appendChild(docLink);\n",
              "        }\n",
              "      </script>\n",
              "    </div>\n",
              "  </div>\n",
              "  "
            ]
          },
          "metadata": {},
          "execution_count": 5
        }
      ]
    },
    {
      "cell_type": "code",
      "source": [
        "df.drop('URL_ID',axis=1,inplace=True)"
      ],
      "metadata": {
        "id": "IGG-mgdJ6qj6"
      },
      "execution_count": null,
      "outputs": []
    },
    {
      "cell_type": "code",
      "source": [
        "url_id=1\n",
        "for i in range(0,len(df)-1):\n",
        "   j=df.iloc[i].values\n",
        "   \n",
        "   headers={'User-Agent': 'Mozilla/5.0 (Windows NT 10.0; Win64; x64) AppleWebKit/537.36 (KHTML, like Gecko) Chrome/74.0.3729.169 Safari/537.36'}\n",
        "   page=requests.get(j[0],headers=headers)\n",
        "   soup=BeautifulSoup(page.content,'html.parser')\n",
        "   content=soup.findAll(attrs={'class':'td-post-content'})\n",
        "   if len(content) > 0:\n",
        "       if isinstance(content, list):\n",
        "           content_text = \"\"\n",
        "           for c in content:\n",
        "               content_text += c.text.replace('\\xa0',\"  \").replace('\\n',\"  \")\n",
        "       else:\n",
        "           content_text = content.text.replace('\\xa0',\"  \").replace('\\n',\"  \") \n",
        "   else:\n",
        "       content_text = \"\"\n",
        "   \n",
        "   title=soup.findAll(attrs={'class':'entry-title'})\n",
        "   if len(title) > 16:\n",
        "       title_text = title[16].text.replace('\\n',\"  \").replace('/',\"\")\n",
        "   else:\n",
        "       title_text = \"\"\n",
        "   \n",
        "   text=title_text + '.' + content_text\n",
        "   text=np.array(text)\n",
        "   text.reshape(1,-1) \n",
        "   df1=pd.Series(text)\n",
        "   b=str(url_id)+\".\"+'txt'\n",
        "   #with open(b, 'a') as f:\n",
        "     #df1.to_csv(f, line_terminator=',', index=False, header=False)\n",
        "     #files.download(b)\n",
        "   url_id+=1"
      ],
      "metadata": {
        "id": "AieqaC2O6rVF"
      },
      "execution_count": null,
      "outputs": []
    },
    {
      "cell_type": "code",
      "source": [
        "text=pd.read_csv(\"/content/drive/MyDrive/data extract to text/150.txt\",header=None)"
      ],
      "metadata": {
        "id": "cR20X_9Z6rmm"
      },
      "execution_count": null,
      "outputs": []
    },
    {
      "cell_type": "code",
      "source": [
        "text.info()"
      ],
      "metadata": {
        "id": "imysJAy06rp7",
        "colab": {
          "base_uri": "https://localhost:8080/"
        },
        "outputId": "15667f5a-bb61-472e-fbfd-bdc92a5533b4"
      },
      "execution_count": null,
      "outputs": [
        {
          "output_type": "stream",
          "name": "stdout",
          "text": [
            "<class 'pandas.core.frame.DataFrame'>\n",
            "RangeIndex: 1 entries, 0 to 0\n",
            "Columns: 1395 entries, 0 to 1394\n",
            "dtypes: float64(1), object(1394)\n",
            "memory usage: 11.0+ KB\n"
          ]
        }
      ]
    },
    {
      "cell_type": "code",
      "source": [
        "text.drop(1,axis=1,inplace=True)"
      ],
      "metadata": {
        "id": "YuxN9ITZ6rtY"
      },
      "execution_count": null,
      "outputs": []
    },
    {
      "cell_type": "code",
      "source": [
        "text=text.astype(str)"
      ],
      "metadata": {
        "id": "ST5CByds6rzQ"
      },
      "execution_count": null,
      "outputs": []
    },
    {
      "cell_type": "code",
      "source": [
        "import re\n",
        "a=text[0].str.split('([\\.]\\s)',expand=False)#splitting text on '.'\n",
        "b=a.explode()#converting to rows\n",
        "b=pd.DataFrame(b)#creating data frame\n",
        "b.columns=['abc']"
      ],
      "metadata": {
        "id": "HZ9Oelvp6r2t"
      },
      "execution_count": null,
      "outputs": []
    },
    {
      "cell_type": "code",
      "source": [
        "def abcd(x):    \n",
        "    nopunc =[char for char in x if char != '.']\n",
        "    return ''.join(nopunc)\n",
        "b['abc']=b['abc'].apply(abcd)\n"
      ],
      "metadata": {
        "id": "z9bKBEf0NueF"
      },
      "execution_count": null,
      "outputs": []
    },
    {
      "cell_type": "code",
      "source": [
        "c=b.replace('',np.nan,regex=True)\n",
        "c=c.mask(c==\" \")\n",
        "c=c.dropna()\n",
        "c.reset_index(drop=True,inplace=True)"
      ],
      "metadata": {
        "id": "IbZ9VFwHNu6P"
      },
      "execution_count": null,
      "outputs": []
    },
    {
      "cell_type": "code",
      "source": [
        "c"
      ],
      "metadata": {
        "colab": {
          "base_uri": "https://localhost:8080/",
          "height": 423
        },
        "id": "HeV9OdjnNu9w",
        "outputId": "e7a45a19-0b65-471c-d355-07bee9371afe"
      },
      "execution_count": null,
      "outputs": [
        {
          "output_type": "execute_result",
          "data": {
            "text/plain": [
              "                                                  abc\n",
              "0        AI in healthcare to Improve Patient Outcomes\n",
              "1    Introduction  “If anything kills over 10 mill...\n",
              "2   Not missiles but microbes” Bill Gates’s remark...\n",
              "3   When the new, unprecedented, invisible virus h...\n",
              "4   This public health emergency demonstrated our ...\n",
              "..                                                ...\n",
              "72  Using sophisticated algorithms AI can bring a ...\n",
              "73  Even after facing challenges like whether the ...\n",
              "74  The biggest challenge is the integration of AI...\n",
              "75  All of these can be overcome and within that p...\n",
              "76   Blackcoffer Insights 29: Sanskriti Sunderum a...\n",
              "\n",
              "[77 rows x 1 columns]"
            ],
            "text/html": [
              "\n",
              "  <div id=\"df-bc3c6a8a-8290-4735-821d-7ef17c6ecfb9\">\n",
              "    <div class=\"colab-df-container\">\n",
              "      <div>\n",
              "<style scoped>\n",
              "    .dataframe tbody tr th:only-of-type {\n",
              "        vertical-align: middle;\n",
              "    }\n",
              "\n",
              "    .dataframe tbody tr th {\n",
              "        vertical-align: top;\n",
              "    }\n",
              "\n",
              "    .dataframe thead th {\n",
              "        text-align: right;\n",
              "    }\n",
              "</style>\n",
              "<table border=\"1\" class=\"dataframe\">\n",
              "  <thead>\n",
              "    <tr style=\"text-align: right;\">\n",
              "      <th></th>\n",
              "      <th>abc</th>\n",
              "    </tr>\n",
              "  </thead>\n",
              "  <tbody>\n",
              "    <tr>\n",
              "      <th>0</th>\n",
              "      <td>AI in healthcare to Improve Patient Outcomes</td>\n",
              "    </tr>\n",
              "    <tr>\n",
              "      <th>1</th>\n",
              "      <td>Introduction  “If anything kills over 10 mill...</td>\n",
              "    </tr>\n",
              "    <tr>\n",
              "      <th>2</th>\n",
              "      <td>Not missiles but microbes” Bill Gates’s remark...</td>\n",
              "    </tr>\n",
              "    <tr>\n",
              "      <th>3</th>\n",
              "      <td>When the new, unprecedented, invisible virus h...</td>\n",
              "    </tr>\n",
              "    <tr>\n",
              "      <th>4</th>\n",
              "      <td>This public health emergency demonstrated our ...</td>\n",
              "    </tr>\n",
              "    <tr>\n",
              "      <th>...</th>\n",
              "      <td>...</td>\n",
              "    </tr>\n",
              "    <tr>\n",
              "      <th>72</th>\n",
              "      <td>Using sophisticated algorithms AI can bring a ...</td>\n",
              "    </tr>\n",
              "    <tr>\n",
              "      <th>73</th>\n",
              "      <td>Even after facing challenges like whether the ...</td>\n",
              "    </tr>\n",
              "    <tr>\n",
              "      <th>74</th>\n",
              "      <td>The biggest challenge is the integration of AI...</td>\n",
              "    </tr>\n",
              "    <tr>\n",
              "      <th>75</th>\n",
              "      <td>All of these can be overcome and within that p...</td>\n",
              "    </tr>\n",
              "    <tr>\n",
              "      <th>76</th>\n",
              "      <td>Blackcoffer Insights 29: Sanskriti Sunderum a...</td>\n",
              "    </tr>\n",
              "  </tbody>\n",
              "</table>\n",
              "<p>77 rows × 1 columns</p>\n",
              "</div>\n",
              "      <button class=\"colab-df-convert\" onclick=\"convertToInteractive('df-bc3c6a8a-8290-4735-821d-7ef17c6ecfb9')\"\n",
              "              title=\"Convert this dataframe to an interactive table.\"\n",
              "              style=\"display:none;\">\n",
              "        \n",
              "  <svg xmlns=\"http://www.w3.org/2000/svg\" height=\"24px\"viewBox=\"0 0 24 24\"\n",
              "       width=\"24px\">\n",
              "    <path d=\"M0 0h24v24H0V0z\" fill=\"none\"/>\n",
              "    <path d=\"M18.56 5.44l.94 2.06.94-2.06 2.06-.94-2.06-.94-.94-2.06-.94 2.06-2.06.94zm-11 1L8.5 8.5l.94-2.06 2.06-.94-2.06-.94L8.5 2.5l-.94 2.06-2.06.94zm10 10l.94 2.06.94-2.06 2.06-.94-2.06-.94-.94-2.06-.94 2.06-2.06.94z\"/><path d=\"M17.41 7.96l-1.37-1.37c-.4-.4-.92-.59-1.43-.59-.52 0-1.04.2-1.43.59L10.3 9.45l-7.72 7.72c-.78.78-.78 2.05 0 2.83L4 21.41c.39.39.9.59 1.41.59.51 0 1.02-.2 1.41-.59l7.78-7.78 2.81-2.81c.8-.78.8-2.07 0-2.86zM5.41 20L4 18.59l7.72-7.72 1.47 1.35L5.41 20z\"/>\n",
              "  </svg>\n",
              "      </button>\n",
              "      \n",
              "  <style>\n",
              "    .colab-df-container {\n",
              "      display:flex;\n",
              "      flex-wrap:wrap;\n",
              "      gap: 12px;\n",
              "    }\n",
              "\n",
              "    .colab-df-convert {\n",
              "      background-color: #E8F0FE;\n",
              "      border: none;\n",
              "      border-radius: 50%;\n",
              "      cursor: pointer;\n",
              "      display: none;\n",
              "      fill: #1967D2;\n",
              "      height: 32px;\n",
              "      padding: 0 0 0 0;\n",
              "      width: 32px;\n",
              "    }\n",
              "\n",
              "    .colab-df-convert:hover {\n",
              "      background-color: #E2EBFA;\n",
              "      box-shadow: 0px 1px 2px rgba(60, 64, 67, 0.3), 0px 1px 3px 1px rgba(60, 64, 67, 0.15);\n",
              "      fill: #174EA6;\n",
              "    }\n",
              "\n",
              "    [theme=dark] .colab-df-convert {\n",
              "      background-color: #3B4455;\n",
              "      fill: #D2E3FC;\n",
              "    }\n",
              "\n",
              "    [theme=dark] .colab-df-convert:hover {\n",
              "      background-color: #434B5C;\n",
              "      box-shadow: 0px 1px 3px 1px rgba(0, 0, 0, 0.15);\n",
              "      filter: drop-shadow(0px 1px 2px rgba(0, 0, 0, 0.3));\n",
              "      fill: #FFFFFF;\n",
              "    }\n",
              "  </style>\n",
              "\n",
              "      <script>\n",
              "        const buttonEl =\n",
              "          document.querySelector('#df-bc3c6a8a-8290-4735-821d-7ef17c6ecfb9 button.colab-df-convert');\n",
              "        buttonEl.style.display =\n",
              "          google.colab.kernel.accessAllowed ? 'block' : 'none';\n",
              "\n",
              "        async function convertToInteractive(key) {\n",
              "          const element = document.querySelector('#df-bc3c6a8a-8290-4735-821d-7ef17c6ecfb9');\n",
              "          const dataTable =\n",
              "            await google.colab.kernel.invokeFunction('convertToInteractive',\n",
              "                                                     [key], {});\n",
              "          if (!dataTable) return;\n",
              "\n",
              "          const docLinkHtml = 'Like what you see? Visit the ' +\n",
              "            '<a target=\"_blank\" href=https://colab.research.google.com/notebooks/data_table.ipynb>data table notebook</a>'\n",
              "            + ' to learn more about interactive tables.';\n",
              "          element.innerHTML = '';\n",
              "          dataTable['output_type'] = 'display_data';\n",
              "          await google.colab.output.renderOutput(dataTable, element);\n",
              "          const docLink = document.createElement('div');\n",
              "          docLink.innerHTML = docLinkHtml;\n",
              "          element.appendChild(docLink);\n",
              "        }\n",
              "      </script>\n",
              "    </div>\n",
              "  </div>\n",
              "  "
            ]
          },
          "metadata": {},
          "execution_count": 17
        }
      ]
    },
    {
      "cell_type": "code",
      "source": [
        "import nltk\n",
        "import string"
      ],
      "metadata": {
        "id": "ZTWWGT-hNvJZ"
      },
      "execution_count": null,
      "outputs": []
    },
    {
      "cell_type": "code",
      "source": [
        "punc=[punc for punc in string.punctuation]\n",
        "     "
      ],
      "metadata": {
        "id": "k9hITZ0hNvM8"
      },
      "execution_count": null,
      "outputs": []
    },
    {
      "cell_type": "code",
      "source": [
        "punc"
      ],
      "metadata": {
        "colab": {
          "base_uri": "https://localhost:8080/"
        },
        "id": "uMehX86JNvPo",
        "outputId": "ef8378eb-c2b6-45d1-fa93-cd1703a7aab1"
      },
      "execution_count": null,
      "outputs": [
        {
          "output_type": "execute_result",
          "data": {
            "text/plain": [
              "['!',\n",
              " '\"',\n",
              " '#',\n",
              " '$',\n",
              " '%',\n",
              " '&',\n",
              " \"'\",\n",
              " '(',\n",
              " ')',\n",
              " '*',\n",
              " '+',\n",
              " ',',\n",
              " '-',\n",
              " '.',\n",
              " '/',\n",
              " ':',\n",
              " ';',\n",
              " '<',\n",
              " '=',\n",
              " '>',\n",
              " '?',\n",
              " '@',\n",
              " '[',\n",
              " '\\\\',\n",
              " ']',\n",
              " '^',\n",
              " '_',\n",
              " '`',\n",
              " '{',\n",
              " '|',\n",
              " '}',\n",
              " '~']"
            ]
          },
          "metadata": {},
          "execution_count": 20
        }
      ]
    },
    {
      "cell_type": "code",
      "source": [
        "StopWords_Auditor=pd.read_csv(\"/content/drive/MyDrive/Colab Notebooks/20211030 Test Assignment/StopWords/StopWords_Auditor.txt\",header=None)\n",
        "StopWords_Currencies=pd.read_csv(\"/content/drive/MyDrive/Colab Notebooks/20211030 Test Assignment/StopWords/StopWords_Currencies.txt\",header=None,encoding=\"ISO-8859-1\",sep='\\n' )\n",
        "StopWords_DatesandNumbers=pd.read_csv(\"/content/drive/MyDrive/Colab Notebooks/20211030 Test Assignment/StopWords/StopWords_DatesandNumbers.txt\",header=None)\n",
        "StopWords_Generic=pd.read_csv(\"/content/drive/MyDrive/Colab Notebooks/20211030 Test Assignment/StopWords/StopWords_Generic.txt\",header=None)\n",
        "StopWords_GenericLong=pd.read_csv(\"/content/drive/MyDrive/Colab Notebooks/20211030 Test Assignment/StopWords/StopWords_GenericLong.txt\",header=None)\n",
        "StopWords_Geographic=pd.read_csv(\"/content/drive/MyDrive/Colab Notebooks/20211030 Test Assignment/StopWords/StopWords_Geographic.txt\",header=None)\n",
        "StopWords_Names=pd.read_csv(\"/content/drive/MyDrive/Colab Notebooks/20211030 Test Assignment/StopWords/StopWords_Names.txt\",header=None)"
      ],
      "metadata": {
        "id": "Hq8qTXrlNvS7"
      },
      "execution_count": null,
      "outputs": []
    },
    {
      "cell_type": "code",
      "source": [
        "def text_process(text):\n",
        "    nopunc =[char for char in text if char not in punc or char not in [':',',','(',')','’','?']]\n",
        "    nopunc=''.join(nopunc)\n",
        "    txt=' '.join([word for word in nopunc.split() if word.lower() not in StopWords_Auditor])\n",
        "    txt1=' '.join([word for word in txt.split() if word.lower() not in StopWords_Currencies])\n",
        "    txt2=' '.join([word for word in txt1.split() if word.lower() not in StopWords_DatesandNumbers])\n",
        "    txt3=' '.join([word for word in txt2.split() if word.lower() not in StopWords_Generic])\n",
        "    txt4=' '.join([word for word in txt3.split() if word.lower() not in StopWords_GenericLong])\n",
        "    txt5=' '.join([word for word in txt4.split() if word.lower() not in StopWords_Geographic])\n",
        "    return ' '.join([word for word in txt5.split() if word.lower() not in StopWords_Names])"
      ],
      "metadata": {
        "id": "9GgNXjC5NvV0"
      },
      "execution_count": null,
      "outputs": []
    },
    {
      "cell_type": "code",
      "source": [
        "c['abc']=c['abc'].apply(text_process)"
      ],
      "metadata": {
        "id": "GaMeNL7ANvYr"
      },
      "execution_count": null,
      "outputs": []
    },
    {
      "cell_type": "code",
      "source": [
        "c"
      ],
      "metadata": {
        "colab": {
          "base_uri": "https://localhost:8080/",
          "height": 423
        },
        "id": "3xoDJTkMNvbU",
        "outputId": "9460f563-1e08-4922-ad1b-56a865ee33f9"
      },
      "execution_count": null,
      "outputs": [
        {
          "output_type": "execute_result",
          "data": {
            "text/plain": [
              "                                                  abc\n",
              "0        AI in healthcare to Improve Patient Outcomes\n",
              "1   Introduction “If anything kills over 10 millio...\n",
              "2   Not missiles but microbes” Bill Gates’s remark...\n",
              "3   When the new unprecedented invisible virus hit...\n",
              "4   This public health emergency demonstrated our ...\n",
              "..                                                ...\n",
              "72  Using sophisticated algorithms AI can bring a ...\n",
              "73  Even after facing challenges like whether the ...\n",
              "74  The biggest challenge is the integration of AI...\n",
              "75  All of these can be overcome and within that p...\n",
              "76  Blackcoffer Insights 29 Sanskriti Sunderum and...\n",
              "\n",
              "[77 rows x 1 columns]"
            ],
            "text/html": [
              "\n",
              "  <div id=\"df-d3a884c6-fd6f-4efa-9d17-36c60c0399eb\">\n",
              "    <div class=\"colab-df-container\">\n",
              "      <div>\n",
              "<style scoped>\n",
              "    .dataframe tbody tr th:only-of-type {\n",
              "        vertical-align: middle;\n",
              "    }\n",
              "\n",
              "    .dataframe tbody tr th {\n",
              "        vertical-align: top;\n",
              "    }\n",
              "\n",
              "    .dataframe thead th {\n",
              "        text-align: right;\n",
              "    }\n",
              "</style>\n",
              "<table border=\"1\" class=\"dataframe\">\n",
              "  <thead>\n",
              "    <tr style=\"text-align: right;\">\n",
              "      <th></th>\n",
              "      <th>abc</th>\n",
              "    </tr>\n",
              "  </thead>\n",
              "  <tbody>\n",
              "    <tr>\n",
              "      <th>0</th>\n",
              "      <td>AI in healthcare to Improve Patient Outcomes</td>\n",
              "    </tr>\n",
              "    <tr>\n",
              "      <th>1</th>\n",
              "      <td>Introduction “If anything kills over 10 millio...</td>\n",
              "    </tr>\n",
              "    <tr>\n",
              "      <th>2</th>\n",
              "      <td>Not missiles but microbes” Bill Gates’s remark...</td>\n",
              "    </tr>\n",
              "    <tr>\n",
              "      <th>3</th>\n",
              "      <td>When the new unprecedented invisible virus hit...</td>\n",
              "    </tr>\n",
              "    <tr>\n",
              "      <th>4</th>\n",
              "      <td>This public health emergency demonstrated our ...</td>\n",
              "    </tr>\n",
              "    <tr>\n",
              "      <th>...</th>\n",
              "      <td>...</td>\n",
              "    </tr>\n",
              "    <tr>\n",
              "      <th>72</th>\n",
              "      <td>Using sophisticated algorithms AI can bring a ...</td>\n",
              "    </tr>\n",
              "    <tr>\n",
              "      <th>73</th>\n",
              "      <td>Even after facing challenges like whether the ...</td>\n",
              "    </tr>\n",
              "    <tr>\n",
              "      <th>74</th>\n",
              "      <td>The biggest challenge is the integration of AI...</td>\n",
              "    </tr>\n",
              "    <tr>\n",
              "      <th>75</th>\n",
              "      <td>All of these can be overcome and within that p...</td>\n",
              "    </tr>\n",
              "    <tr>\n",
              "      <th>76</th>\n",
              "      <td>Blackcoffer Insights 29 Sanskriti Sunderum and...</td>\n",
              "    </tr>\n",
              "  </tbody>\n",
              "</table>\n",
              "<p>77 rows × 1 columns</p>\n",
              "</div>\n",
              "      <button class=\"colab-df-convert\" onclick=\"convertToInteractive('df-d3a884c6-fd6f-4efa-9d17-36c60c0399eb')\"\n",
              "              title=\"Convert this dataframe to an interactive table.\"\n",
              "              style=\"display:none;\">\n",
              "        \n",
              "  <svg xmlns=\"http://www.w3.org/2000/svg\" height=\"24px\"viewBox=\"0 0 24 24\"\n",
              "       width=\"24px\">\n",
              "    <path d=\"M0 0h24v24H0V0z\" fill=\"none\"/>\n",
              "    <path d=\"M18.56 5.44l.94 2.06.94-2.06 2.06-.94-2.06-.94-.94-2.06-.94 2.06-2.06.94zm-11 1L8.5 8.5l.94-2.06 2.06-.94-2.06-.94L8.5 2.5l-.94 2.06-2.06.94zm10 10l.94 2.06.94-2.06 2.06-.94-2.06-.94-.94-2.06-.94 2.06-2.06.94z\"/><path d=\"M17.41 7.96l-1.37-1.37c-.4-.4-.92-.59-1.43-.59-.52 0-1.04.2-1.43.59L10.3 9.45l-7.72 7.72c-.78.78-.78 2.05 0 2.83L4 21.41c.39.39.9.59 1.41.59.51 0 1.02-.2 1.41-.59l7.78-7.78 2.81-2.81c.8-.78.8-2.07 0-2.86zM5.41 20L4 18.59l7.72-7.72 1.47 1.35L5.41 20z\"/>\n",
              "  </svg>\n",
              "      </button>\n",
              "      \n",
              "  <style>\n",
              "    .colab-df-container {\n",
              "      display:flex;\n",
              "      flex-wrap:wrap;\n",
              "      gap: 12px;\n",
              "    }\n",
              "\n",
              "    .colab-df-convert {\n",
              "      background-color: #E8F0FE;\n",
              "      border: none;\n",
              "      border-radius: 50%;\n",
              "      cursor: pointer;\n",
              "      display: none;\n",
              "      fill: #1967D2;\n",
              "      height: 32px;\n",
              "      padding: 0 0 0 0;\n",
              "      width: 32px;\n",
              "    }\n",
              "\n",
              "    .colab-df-convert:hover {\n",
              "      background-color: #E2EBFA;\n",
              "      box-shadow: 0px 1px 2px rgba(60, 64, 67, 0.3), 0px 1px 3px 1px rgba(60, 64, 67, 0.15);\n",
              "      fill: #174EA6;\n",
              "    }\n",
              "\n",
              "    [theme=dark] .colab-df-convert {\n",
              "      background-color: #3B4455;\n",
              "      fill: #D2E3FC;\n",
              "    }\n",
              "\n",
              "    [theme=dark] .colab-df-convert:hover {\n",
              "      background-color: #434B5C;\n",
              "      box-shadow: 0px 1px 3px 1px rgba(0, 0, 0, 0.15);\n",
              "      filter: drop-shadow(0px 1px 2px rgba(0, 0, 0, 0.3));\n",
              "      fill: #FFFFFF;\n",
              "    }\n",
              "  </style>\n",
              "\n",
              "      <script>\n",
              "        const buttonEl =\n",
              "          document.querySelector('#df-d3a884c6-fd6f-4efa-9d17-36c60c0399eb button.colab-df-convert');\n",
              "        buttonEl.style.display =\n",
              "          google.colab.kernel.accessAllowed ? 'block' : 'none';\n",
              "\n",
              "        async function convertToInteractive(key) {\n",
              "          const element = document.querySelector('#df-d3a884c6-fd6f-4efa-9d17-36c60c0399eb');\n",
              "          const dataTable =\n",
              "            await google.colab.kernel.invokeFunction('convertToInteractive',\n",
              "                                                     [key], {});\n",
              "          if (!dataTable) return;\n",
              "\n",
              "          const docLinkHtml = 'Like what you see? Visit the ' +\n",
              "            '<a target=\"_blank\" href=https://colab.research.google.com/notebooks/data_table.ipynb>data table notebook</a>'\n",
              "            + ' to learn more about interactive tables.';\n",
              "          element.innerHTML = '';\n",
              "          dataTable['output_type'] = 'display_data';\n",
              "          await google.colab.output.renderOutput(dataTable, element);\n",
              "          const docLink = document.createElement('div');\n",
              "          docLink.innerHTML = docLinkHtml;\n",
              "          element.appendChild(docLink);\n",
              "        }\n",
              "      </script>\n",
              "    </div>\n",
              "  </div>\n",
              "  "
            ]
          },
          "metadata": {},
          "execution_count": 24
        }
      ]
    },
    {
      "cell_type": "code",
      "source": [
        "positive=pd.read_csv(\"/content/drive/MyDrive/Colab Notebooks/20211030 Test Assignment/MasterDictionary/positive-words.txt\",header=None)\n",
        "negative=pd.read_csv(\"/content/drive/MyDrive/Colab Notebooks/20211030 Test Assignment/MasterDictionary/negative-words.txt\",header=None,encoding=\"ISO-8859-1\",sep='\\n' )"
      ],
      "metadata": {
        "id": "apGgNuVjNveQ"
      },
      "execution_count": null,
      "outputs": []
    },
    {
      "cell_type": "code",
      "source": [
        "positive.columns=['abc']\n",
        "negative.columns=['abc']\n",
        "positive['abc']=positive['abc'].astype(str)\n",
        "negative['abc']=negative['abc'].astype(str)"
      ],
      "metadata": {
        "id": "2eeAu6IONvhN"
      },
      "execution_count": null,
      "outputs": []
    },
    {
      "cell_type": "code",
      "source": [
        "positive['abc']=positive['abc'].apply(text_process)\n",
        "negative['abc']=negative['abc'].apply(text_process)"
      ],
      "metadata": {
        "id": "rBGgR4bRNvkh"
      },
      "execution_count": null,
      "outputs": []
    },
    {
      "cell_type": "code",
      "source": [
        "length=positive.shape[0]\n",
        "post=[]\n",
        "for i in range(0,length):\n",
        "   nopunc =[char for char in positive.iloc[i] if char not in string.punctuation or char != '+']\n",
        "   nopunc=''.join(nopunc)\n",
        "\n",
        "   post.append(nopunc)"
      ],
      "metadata": {
        "id": "_JhHBmCcNvm_"
      },
      "execution_count": null,
      "outputs": []
    },
    {
      "cell_type": "code",
      "source": [
        "length=negative.shape[0]\n",
        "neg=[]\n",
        "for i in range(0,length):\n",
        "  nopunc =[char for char in negative.iloc[i] if char not in string.punctuation or char != '+']\n",
        "  nopunc=''.join(nopunc)\n",
        "  neg.append(nopunc)\n",
        "     "
      ],
      "metadata": {
        "id": "8ZiRkzonNvqH"
      },
      "execution_count": null,
      "outputs": []
    },
    {
      "cell_type": "code",
      "source": [
        "from nltk.tokenize import word_tokenize"
      ],
      "metadata": {
        "id": "HevcdBKjNvtB"
      },
      "execution_count": null,
      "outputs": []
    },
    {
      "cell_type": "code",
      "source": [
        "txt_list=[]\n",
        "length=c.shape[0]\n",
        "for i in range(0,length):\n",
        "  txt=' '.join([word for word in c.iloc[i]])\n",
        "  txt_list.append(txt)"
      ],
      "metadata": {
        "id": "38swriKyNvvx"
      },
      "execution_count": null,
      "outputs": []
    },
    {
      "cell_type": "code",
      "source": [
        "import nltk\n",
        "nltk.download('punkt')"
      ],
      "metadata": {
        "colab": {
          "base_uri": "https://localhost:8080/"
        },
        "id": "fbSlNjPLo4Cc",
        "outputId": "4640464c-ddb4-4026-90a0-78fbf4775944"
      },
      "execution_count": null,
      "outputs": [
        {
          "output_type": "stream",
          "name": "stderr",
          "text": [
            "[nltk_data] Downloading package punkt to /root/nltk_data...\n",
            "[nltk_data]   Unzipping tokenizers/punkt.zip.\n"
          ]
        },
        {
          "output_type": "execute_result",
          "data": {
            "text/plain": [
              "True"
            ]
          },
          "metadata": {},
          "execution_count": 33
        }
      ]
    },
    {
      "cell_type": "code",
      "source": [
        "tokenize_text=[]\n",
        "for i in txt_list:\n",
        "  \n",
        "  tokenize_text+=(word_tokenize(i))\n",
        "     "
      ],
      "metadata": {
        "id": "gY55VEUONvyX"
      },
      "execution_count": null,
      "outputs": []
    },
    {
      "cell_type": "code",
      "source": [
        "print(tokenize_text)\n",
        "['Challenges', 'and', 'Opportunities', 'of', 'Big', 'Data', 'in', 'Healthcare', 'Big', 'Data', 'To', 'begin', 'with', 'I', 'shall', 'first', 'like', 'to', 'explain', 'what', 'big', 'data', 'is', 'and', 'why', 'it', 'has', 'become', 'so', 'important', 'in', 'our', 'lives', 'Big', 'data', 'is', 'simply', 'data', 'but', 'with', 'a', 'huge', 'size', 'Data', 'that', 'is', 'not', 'just', 'voluminous', 'but', 'also', 'growing', 'exponentially', 'with', 'time', 'Such', 'data', 'sets', 'are', 'so', 'large', 'and', 'complex', 'that', 'it', 'is', 'not', 'possible', 'to', 'store', 'or', 'process', 'them', 'using', 'traditional', 'data', 'management', 'tools', 'So', 'how', 'huge', 'can', 'this', 'data', 'be', 'Social', 'media', 'sites', 'like', 'Facebook', 'generate', 'more', 'than', '500', 'terabytes', 'of', 'new', 'data', 'every', 'day', 'in', 'the', 'form', 'of', 'photos', 'video', 'uploads', 'text', 'messages', 'etc', 'A', 'single', 'Jet', 'engine', 'can', 'generate', 'more', 'than', '10', 'terabytes', 'of', 'data', 'in', '30', 'minutes', 'of', 'flight', 'time', 'With', 'many', 'thousand', 'flights', 'per', 'day', 'generation', 'of', 'data', 'reaches', 'up', 'to', 'many', 'petabytes', 'Data', 'contained', 'in', 'these', 'sets', 'are', 'not', 'always', 'structured', 'It', 'can', 'be', 'semi-structured', 'or', 'even', 'unstructured', 'When', 'such', 'is', 'the', 'size', 'and', 'dimension', 'of', 'data', 'we', 'can', 'well', 'imagine', 'how', 'complicated', 'it', 'must', 'be', 'to', 'process', 'and', 'analyze', 'it', 'Therefore', 'modern', 'methods', 'of', 'data', 'analysis', 'are', 'being', 'developed', 'and', 'used', 'to', 'process', 'the', 'information', 'contained', 'in', 'big', 'data', 'sets', 'Opportunities', 'Now', 'coming', 'to', 'the', 'opportunities', 'that', 'Big', 'Data', 'provides', 'they', 'are', 'not', 'just', 'limited', 'to', 'healthcare', 'Big', 'data', 'analysis', 'is', 'now', 'a', 'disruptive', 'technology', 'which', 'has', 'intervened', 'into', 'numerous', 'fields', 'and', 'proved', 'its', 'worth', 'Healthcare', 'is', 'no', 'exception', 'Big', 'data', 'has', 'the', 'potential', 'to', 'change', 'the', 'entire', 'dynamics', 'of', 'the', 'healthcare', 'industry', 'and', 'improve', 'the', 'quality', 'of', 'life', 'of', 'people', 'Healthcare', 'industry', 'is', 'a', 'very', 'large', 'and', 'complicated', 'system', 'It', 'involves', 'a', 'lot', 'of', 'risks', 'and', 'always', 'demands', 'better', 'care', 'However', 'when', 'a', 'large', 'number', 'of', 'patients', 'seek', 'emergency', 'care', 'the', 'complications', 'as', 'well', 'as', 'the', 'cost', 'rise', 'exponentially', 'In', 'India', 'many', 'times', 'we', 'even', 'lack', 'sufficient', 'infrastructure', 'to', 'support', 'the', 'patients', 'there', 'is', 'a', 'deficit', 'of', 'beds', 'as', 'well', 'as', 'doctors', 'to', 'provide', 'treatment', 'to', 'the', 'patients', 'For', 'instance', 'when', 'epidemics', 'break', 'out', 'and', 'lives', 'are', 'lost', 'at', 'a', 'very', 'alarming', 'rate', 'we', 'can', 'easily', 'gauge', 'our', 'helplessness', 'However', 'the', 'scenario', 'is', 'certainly', 'improving', 'now', 'With', 'the', 'advent', 'of', 'digitization', 'into', 'the', 'healthcare', 'system', 'healthcare', 'providers', 'or', 'practitioners', 'are', 'now', 'having', 'access', 'to', 'a', 'huge', 'amount', 'of', 'patient', 'health', 'data', 'This', 'healthcare', 'big', 'data', 'can', 'be', 'processed', 'and', 'analyzed', 'to', 'identify', 'patient', 'patterns', 'more', 'quickly', 'and', 'effectively', 'The', 'information', 'obtained', 'can', 'be', 'extremely', 'useful', 'to', 'figure', 'out', 'chronic', 'health', 'issues', 'and', 'provide', 'preventive', 'treatment', 'plans', 'well', 'beforehand', 'so', 'as', 'to', 'curb', 'that', 'disease', 'or', 'disorder', 'from', 'occurring', 'This', 'method', 'is', 'also', 'known', 'as', 'predictive', 'analysis', 'and', 'it', 'is', 'one', 'of', 'the', 'most', 'crucial', 'benefits', 'of', 'big', 'data', 'in', 'healthcare', 'This', 'technology', 'can', 'help', 'the', 'healthcare', 'industry', 'in', 'more', 'ways', 'than', 'we', 'can', 'infer', 'Healthcare', 'organizations', 'that', 'have', 'implemented', 'predictive', 'analysis', 'have', 'witnessed', 'a', 'reduction', 'in', 'ER', 'visits', 'by', 'providing', 'support', 'and', 'care', 'to', 'patients', 'and', 'decreasing', 'emergency', 'situations', 'Apart', 'from', 'reduced', 'ER', 'visits', 'and', 'timely', 'treatment', 'there', 'are', 'many', 'other', 'benefits', 'of', 'big', 'data', 'and', 'predictive', 'analysis', 'Patients', 'with', 'high-risk', 'life-threatening', 'issues', 'can', 'be', 'provided', 'with', 'more', 'customized', 'treatment', 'facilities', 'Due', 'to', 'lack', 'of', 'data', 'there', 'exists', 'a', 'lack', 'of', 'proper', 'planning', 'in', 'hospitals', 'Under', 'or', 'over-booking', 'of', 'staff', 'lack', 'of', 'medical', 'equipment', 'medicines', 'and', 'other', 'facilities', 'are', 'a', 'result', 'of', 'inefficient', 'budgeting', 'and', 'ill-management', 'of', 'finances', 'Using', 'predictive', 'analysis', 'these', 'problems', 'can', 'be', 'solved', 'which', 'will', 'lead', 'to', 'reduced', 'costs', 'and', 'efficient', 'management', 'of', 'finances', 'Better', 'staff', 'allocation', 'and', 'admission', 'rate', 'prediction', 'shall', 'facilitate', 'improvement', 'in', 'daily', 'operations', 'of', 'healthcare', 'organizations', 'By', 'using', 'big', 'data', 'the', 'effect', 'of', 'recency', 'bias', 'could', 'be', 'reduced', 'as', 'well', 'When', 'we', 'give', 'more', 'importance', 'to', 'recent', 'events', 'and', 'tend', 'to', 'ignore', 'the', 'effect', 'of', 'the', 'older', 'ones', 'it', 'may', 'lead', 'to', 'incorrect', 'decisions', 'This', 'is', 'known', 'as', 'recency', 'bias', 'Big', 'data', 'also', 'helps', 'in', 'preventing', 'fraudulent', 'activities', 'which', 'in', 'turn', 'prevents', 'losses', 'of', 'insurance', 'companies', 'Challenges', 'While', 'all', 'of', 'this', 'is', 'changing', 'the', 'healthcare', 'industry', 'for', 'the', 'better', 'it', 'is', 'not', 'that', 'easy', 'to', 'reap', 'the', 'benefits', 'of', 'big', 'data', 'There', 'are', 'a', 'whole', 'lot', 'of', 'challenges', 'and', 'vulnerabilities', 'attached', 'to', 'its', 'implementation', 'One', 'of', 'the', 'biggest', 'challenges', 'is', 'security', 'Healthcare', 'big', 'data', 'contains', 'the', 'personal', 'information', 'and', 'health', 'history', 'of', 'patients', 'Acts', 'of', 'hacking', 'cyber', 'theft', 'and', 'phishing', 'pose', 'a', 'serious', 'threat', 'to', 'these', 'databases', 'Such', 'data', 'could', 'be', 'stolen', 'and', 'sold', 'for', 'huge', 'sums', 'of', 'money', 'Protection', 'of', 'the', 'patients', '’', 'privacy', 'hence', 'is', 'a', 'serious', 'challenge', 'to', 'big', 'data', 'implementation', 'Also', 'the', 'data', 'would', 'contain', 'external', 'data', 'apart', 'from', 'medical', 'information', 'The', 'organization', 'therefore', 'has', 'to', 'take', 'care', 'of', 'privacy', 'legal', 'compliances', 'and', 'government', 'policies', 'Privacy', 'and', 'security', 'of', 'patients', 'have', 'to', 'be', 'given', 'utmost', 'importance', 'and', 'no', 'breach', 'of', 'any', 'kind', 'can', 'be', 'permitted', 'The', 'next', 'challenge', 'is', 'data', 'classification', 'and', 'modeling', 'The', 'size', 'of', 'the', 'data', 'is', 'massive', 'and', 'it', 'is', 'less', 'structured', 'and', 'heterogeneous', 'Classifying', 'such', 'massive', 'data', 'to', 'identify', 'relevant', 'information', 'is', 'a', 'big', 'challenge', 'Modeling', 'of', 'such', 'unstructured', 'data', 'is', 'equally', 'difficult', 'Storage', 'and', 'retrieval', 'is', 'another', 'major', 'challenge', 'Huge', 'cloud', 'servers', 'with', 'sufficient', 'space', 'are', 'required', 'to', 'store', 'such', 'voluminous', 'data', 'Also', 'the', 'speed', 'should', 'be', 'high', 'so', 'that', 'uploading', 'of', 'data', 'can', 'be', 'done', 'hassle-free', 'The', 'way', 'storage', 'is', 'a', 'challenge', 'retrieval', 'also', 'is', 'a', 'matter', 'of', 'concern', 'Integrating', 'the', 'data', 'and', 'getting', 'all', 'relevant', 'systems', 'to', 'link', 'each', 'other', 'is', 'a', 'tough', 'job', 'The', 'next', 'challenge', 'is', 'a', 'major', 'one', 'in', 'my', 'opinion', 'Finding', 'the', 'right', 'talent', 'who', 'own', 'the', 'expertise', 'to', 'implement', 'this', 'modern', 'technology', 'is', 'an', 'arduous', 'task', 'Shortage', 'of', 'required', 'talent', 'is', 'a', 'crisis', 'in', 'the', 'market', 'today', 'Even', 'after', 'hiring', 'the', 'right', 'talent', 'it', 'is', 'a', 'challenge', 'to', 'retain', 'them', 'Scarce', 'resources', 'like', 'data', 'scientists', 'are', 'hard', 'to', 'find', 'and', 'even', 'harder', 'to', 'retain', 'They', 'are', 'easily', 'poached', 'by', 'competitors', 'A', 'good', 'and', 'efficient', 'compensation', 'strategy', 'conducive', 'work', 'environment', 'high', 'incentives', 'opportunities', 'for', 'career', 'growth', 'and', 'development', 'can', 'be', 'some', 'of', 'the', 'ways', 'of', 'retaining', 'such', 'intellectual', 'talent', 'In', 'a', 'nutshell', 'we', 'can', 'conclude', 'that', 'while', 'big', 'data', 'is', 'a', 'disruptive', 'technology', 'which', 'will', 'bring', 'about', 'landmark', 'changes', 'in', 'healthcare', 'dynamics', 'the', 'challenges', 'and', 'vulnerabilities', 'need', 'to', 'be', 'addressed', 'with', 'the', 'utmost', 'care', 'and', 'sense', 'of', 'responsibility', 'Blackcoffer', 'Insights', '10', '|', 'Subhasmita', 'Dey', 'Xavier', 'School', 'of', 'Human', 'Resource', 'Management', 'XUB']\n"
      ],
      "metadata": {
        "colab": {
          "base_uri": "https://localhost:8080/"
        },
        "id": "szpM7HEjNv1w",
        "outputId": "17866f8a-ac45-4dd1-cb9f-f339379d99f8"
      },
      "execution_count": null,
      "outputs": [
        {
          "output_type": "stream",
          "name": "stdout",
          "text": [
            "['AI', 'in', 'healthcare', 'to', 'Improve', 'Patient', 'Outcomes', 'Introduction', '“', 'If', 'anything', 'kills', 'over', '10', 'million', 'people', 'in', 'the', 'next', 'few', 'decades', 'it', 'will', 'be', 'a', 'highly', 'infectious', 'virus', 'rather', 'than', 'a', 'war', 'Not', 'missiles', 'but', 'microbes', '”', 'Bill', 'Gates', '’', 's', 'remarks', 'at', 'a', 'TED', 'conference', 'in', '2014', 'right', 'after', 'the', 'world', 'had', 'avoided', 'the', 'Ebola', 'outbreak', 'When', 'the', 'new', 'unprecedented', 'invisible', 'virus', 'hit', 'us', 'it', 'met', 'an', 'overwhelmed', 'and', 'unprepared', 'healthcare', 'system', 'and', 'oblivious', 'population', 'This', 'public', 'health', 'emergency', 'demonstrated', 'our', 'lack', 'of', 'scientific', 'consideration', 'and', 'underlined', 'the', 'alarming', 'need', 'for', 'robust', 'innovations', 'in', 'our', 'health', 'and', 'medical', 'facilities', 'For', 'the', 'past', 'few', 'years', 'artificial', 'intelligence', 'has', 'proven', 'to', 'be', 'of', 'tangible', 'potential', 'in', 'the', 'healthcare', 'sectors', 'clinical', 'practices', 'translational', 'medical', 'and', 'biomedical', 'research', 'After', 'the', 'first', 'case', 'was', 'detected', 'in', 'China', 'on', 'December', '31st', '2019', 'it', 'was', 'an', 'AI', 'program', 'developed', 'by', 'BlueDot', 'that', 'alerted', 'the', 'world', 'about', 'the', 'pandemic', 'It', 'was', 'quick', 'to', 'realise', 'AI', '’', 's', 'ability', 'to', 'analyse', 'large', 'chunks', 'of', 'data', 'could', 'help', 'in', 'detecting', 'patterns', 'and', 'identifying', 'and', 'tracking', 'the', 'possible', 'carriers', 'of', 'the', 'virus', 'Many', 'tracing', 'apps', 'use', 'AI', 'to', 'keep', 'tabs', 'on', 'the', 'people', 'who', 'have', 'been', 'infected', 'and', 'prevent', 'the', 'risk', 'of', 'cross-infection', 'by', 'using', 'AI', 'algorithms', 'that', 'can', 'track', 'patterns', 'and', 'extract', 'some', 'features', 'to', 'classify', 'or', 'categorise', 'them', 'So', 'how', 'does', 'AI', 'do', 'that', 'IBM', 'Watson', 'a', 'sophisticated', 'AI', 'that', 'works', 'on', 'cloud', 'computing', 'and', 'natural', 'language', 'processing', 'has', 'prominently', 'contributed', 'to', 'the', 'healthcare', 'sector', 'on', 'a', 'global', 'level', 'Being', 'a', 'conversational', 'AI', 'since', '2013', 'Watson', 'has', 'helped', 'in', 'recommending', 'treatments', 'to', 'patients', 'suffering', 'from', 'cancer', 'to', 'ensure', 'that', 'they', 'get', 'the', 'best', 'treatment', 'at', 'optimum', 'costs', 'Researchers', 'at', 'Google', 'Inc', 'showed', 'that', 'an', 'AI', 'system', 'can', 'be', 'trained', 'on', 'thousands', 'of', 'images', 'to', 'achieve', 'physician-level', 'sensitivity', 'By', 'identifying', 'the', 'molecular', 'patterns', 'associated', 'with', 'disease', 'status', 'and', 'its', 'subtypes', 'gene', 'expression', 'and', 'protein', 'abundance', 'levels', 'machine', 'learning', 'methods', 'can', 'detect', 'fatal', 'diseases', 'like', 'cancer', 'at', 'an', 'early', 'stage', 'Machine', 'Learning', 'ML', 'techniques', 'focus', 'mainly', 'on', 'analyzing', 'structured', 'data', 'which', 'can', 'further', 'help', 'in', 'clustering', 'patients', '’', 'traits', 'and', 'infer', 'the', 'probability', 'of', 'disease', 'outcomes', 'Since', 'patient', 'traits', 'mainly', 'include', 'masses', 'of', 'data', 'relating', 'to', 'age', 'gender', 'disease', 'history', 'disease-specific', 'data', 'like', 'diagnostic', 'imaging', 'and', 'gene', 'expressions', 'etc', 'ML', 'can', 'extract', 'features', 'from', 'these', 'data', 'inputs', 'by', 'constructing', 'data', 'analytical', 'algorithms', 'ML', 'algorithms', 'are', 'either', 'supervised', 'or', 'unsupervised', 'Unsupervised', 'learning', 'helps', 'in', 'extracting', 'features', 'and', 'clustering', 'similar', 'features', 'together', 'that', 'further', 'leads', 'to', 'early', 'detection', 'of', 'diseases', 'Clustering', 'and', 'principal', 'component', 'analysis', 'enable', 'grouping', 'or', 'clustering', 'of', 'similar', 'traits', 'together', 'that', 'are', 'further', 'used', 'to', 'maximize', 'or', 'minimize', 'the', 'similarity', 'between', 'the', 'patients', 'within', 'or', 'between', 'the', 'clusters', 'Since', 'patient', 'traits', 'are', 'recorded', 'in', 'multiple', 'dimensions', 'such', 'as', 'genes', 'principal', 'component', 'analysisPCA', 'creates', 'the', 'apparatus', 'to', 'reduce', 'these', 'dimensions', 'which', 'humans', 'could', 'have', 'not', 'done', 'alone', 'Supervised', 'learning', 'considers', 'the', 'outcomes', 'of', 'the', 'subjects', 'together', 'with', 'the', 'traits', 'and', 'further', 'correlates', 'the', 'inputs', 'with', 'the', 'outputs', 'to', 'predict', 'the', 'probability', 'of', 'getting', 'a', 'particular', 'clinical', 'event', 'expected', 'value', 'of', 'a', 'disease', 'level', 'or', 'expected', 'survival', 'time', 'or', 'risk', 'of', 'Down', '’', 's', 'syndrome', 'Biomarker', 'panels', 'that', 'are', 'mostly', 'used', 'to', 'detect', 'ovarian', 'cancer', 'have', 'outperformed', 'the', 'conventional', 'statistical', 'methods', 'due', 'to', 'machine', 'learning', 'In', 'addition', 'to', 'this', 'the', 'use', 'of', 'EHRs', 'and', 'Bayesian', 'networks', 'which', 'are', 'a', 'part', 'of', 'supervised', 'machine', 'learning', 'algorithms', 'can', 'predict', 'clinical', 'outcomes', 'and', 'mortality', 'respectively', 'Unstructured', 'data', 'such', 'as', 'clinical', 'notes', 'and', 'texts', 'are', 'converted', 'into', 'machine-readable', 'structured', 'data', 'with', 'the', 'help', 'of', 'natural', 'language', 'processingNLP', 'NLP', 'works', 'with', 'two', 'components', 'text', 'processing', 'and', 'classification', 'Text', 'processing', 'helps', 'in', 'identifying', 'a', 'series', 'of', 'disease-relevant', 'keywords', 'in', 'clinical', 'notes', 'and', 'then', 'through', 'classification', 'are', 'further', 'categorized', 'into', 'normal', 'and', 'abnormal', 'cases', 'Chest', 'screening', 'through', 'ML', 'and', 'NLP', 'has', 'helped', 'find', 'abnormalities', 'in', 'the', 'lungs', 'and', 'provide', 'treatment', 'to', 'covid', 'patients', 'Healthcare', 'organizations', 'use', 'NLP-based', 'chatbots', 'to', 'increase', 'interactions', 'with', 'patients', 'keeping', 'their', 'mental', 'health', 'and', 'wellness', 'in', 'check', 'Deep', 'learning', 'is', 'a', 'modern', 'extension', 'of', 'the', 'classical', 'neural', 'network', 'techniques', 'which', 'helps', 'explore', 'more', 'complex', 'non-linear', 'patterns', 'in', 'data', 'using', 'algorithms', 'like', 'convolution', 'neural', 'network', 'recurrent', 'neural', 'network', 'deep', 'belief', 'network', 'and', 'deep', 'neural', 'network', 'which', 'enables', 'more', 'accurate', 'clinical', 'prediction', 'When', 'it', 'comes', 'to', 'genome', 'interpretation', 'deep', 'neural', 'networks', 'surpass', 'the', 'conventional', 'methods', 'of', 'logistics', 'regression', 'and', 'support', 'vector', 'machines', 'Sepsis', 'Watch', 'is', 'an', 'AI', 'system', 'trained', 'in', 'deep', 'learning', 'algorithms', 'that', 'holds', 'the', 'capability', 'to', 'analyze', 'over', '32', 'million', 'data', 'points', 'to', 'create', 'a', 'patient', '’', 's', 'risk', 'score', 'and', 'identify', 'the', 'early', 'stages', 'of', 'sepsis', 'Another', 'method', 'known', 'as', 'the', 'Learning-based', 'Optimization', 'of', 'the', 'Under', 'Sampling', 'Pattern', 'LOUPE', 'is', 'based', 'on', 'integrating', 'full', 'resolution', 'MRI', 'scans', 'with', 'the', 'convolutional', 'neural', 'network', 'algorithm', 'which', 'helps', 'in', 'creating', 'more', 'accurate', 'reconstructions', 'Robotic', 'surgery', 'is', 'widely', 'considered', 'in', 'most', 'delicate', 'surgeries', 'like', 'gynaecology', 'and', 'prostate', 'surgery', 'Even', 'after', 'striking', 'the', 'right', 'balance', 'between', 'human', 'decisions', 'and', 'AI', 'precision', 'robotic', 'surgery', 'reduces', 'surgeon', 'efficiency', 'as', 'they', 'have', 'to', 'be', 'manually', 'operated', 'through', 'a', 'console', 'Thus', 'autonomous', 'robotic', 'surgery', 'is', 'on', 'the', 'rise', 'with', 'inventions', 'such', 'as', 'robotic', 'silicon', 'fingers', 'that', 'mimic', 'the', 'sense', 'of', 'touch', 'that', 'surgeons', 'need', 'to', 'identify', 'organs', 'cut', 'tissues', 'etc', 'or', 'robotic', 'catheters', 'that', 'can', 'navigate', 'whether', 'it', 'is', 'touching', 'blood', 'tissue', 'or', 'valve', 'Researchers', 'at', 'Children', '’', 's', 'National', 'Hospital', 'Washington', 'have', 'already', 'developed', 'an', 'AI', 'called', 'Smart', 'Tissue', 'Autonomous', 'Robot', 'STAR', 'which', 'performs', 'a', 'colon', 'anastomosis', 'on', 'its', 'own', 'with', 'the', 'help', 'of', 'an', 'ML-powered', 'suturing', 'tool', 'that', 'automatically', 'detects', 'the', 'patient', '’', 's', 'breathing', 'pattern', 'to', 'apply', 'suture', 'at', 'the', 'correct', 'point', 'An', 'image', 'of', 'STAR', 'during', 'surgery', 'Cloud', 'computing', 'in', 'healthcare', 'has', 'helped', 'in', 'retrieving', 'and', 'sharing', 'medical', 'records', 'safely', 'with', 'a', 'reduction', 'in', 'maintenance', 'costs', 'Through', 'this', 'technology', 'doctors', 'and', 'various', 'healthcare', 'workers', 'have', 'access', 'to', 'detailed', 'patient', 'data', 'that', 'helps', 'in', 'speeding', 'up', 'analysis', 'ultimately', 'leading', 'to', 'better', 'care', 'in', 'the', 'form', 'of', 'more', 'accurate', 'information', 'medications', 'and', 'therapies', 'How', 'can', 'It', 'help', 'in', 'Biomedical', 'research', 'Since', 'AI', 'can', 'analyze', 'literature', 'beyond', 'readability', 'it', 'can', 'be', 'used', 'to', 'concise', 'biomedical', 'research', 'With', 'the', 'help', 'of', 'ML', 'algorithms', 'and', 'NLP', 'AI', 'can', 'accelerate', 'screening', 'and', 'indexing', 'of', 'biomedical', 'research', 'by', 'ranking', 'the', 'literature', 'of', 'interest', 'which', 'allows', 'researchers', 'to', 'formulate', 'and', 'test', 'scientific', 'hypotheses', 'far', 'more', 'precisely', 'and', 'quickly', 'Taking', 'it', 'to', 'the', 'next', 'level', 'AI', 'systems', 'like', 'the', 'computational', 'modelling', 'assistant', 'CMA', 'helps', 'researchers', 'to', 'construct', 'simulation', 'models', 'from', 'the', 'concepts', 'they', 'have', 'in', 'mind', 'Such', 'innovations', 'have', 'majorly', 'contributed', 'to', 'topics', 'such', 'as', 'tumour', 'suppressor', 'mechanisms', 'and', 'protein-protein', 'interaction', 'information', 'extraction', 'AI', 'as', 'precision', 'medicine', 'Since', 'precision', 'medicine', 'focuses', 'on', 'healthcare', 'interventions', 'to', 'individuals', 'or', 'groups', 'of', 'patients', 'based', 'on', 'their', 'profile', 'the', 'various', 'AI', 'devices', 'pave', 'the', 'way', 'to', 'practice', 'it', 'more', 'efficiently', 'With', 'the', 'help', 'of', 'ML', 'complex', 'algorithms', 'like', 'large', 'datasets', 'can', 'be', 'used', 'to', 'predict', 'and', 'create', 'an', 'optimal', 'treatment', 'strategy', 'Deep', 'learning', 'and', 'neural', 'networks', 'can', 'be', 'used', 'to', 'process', 'data', 'in', 'healthcare', 'apps', 'and', 'keep', 'a', 'close', 'watch', 'on', 'the', 'patient', '’', 's', 'emotional', 'state', 'food', 'intake', 'or', 'health', 'monitoring', '“', 'Omics', '”', 'refers', 'to', 'the', 'collective', 'technologies', 'that', 'help', 'in', 'exploring', 'the', 'roles', 'relationships', 'of', 'various', 'branches', 'ending', 'with', 'the', 'suffix', '“', 'omics', '”', 'such', 'as', 'genomics', 'proteomics', 'etc', 'Omics-based', 'tests', 'based', 'on', 'machine', 'learning', 'algorithms', 'help', 'find', 'correlations', 'and', 'predict', 'treatment', 'responses', 'ultimately', 'creating', 'personalized', 'treatments', 'for', 'individual', 'patients', 'How', 'it', 'helps', 'in', 'psychology', 'and', 'neuro', 'patients', 'For', 'psychologists', 'studying', 'creativity', 'AI', 'is', 'promising', 'new', 'classes', 'of', 'experiments', 'that', 'are', 'developing', 'data', 'structures', 'and', 'programs', 'and', 'exploring', 'novel', 'theories', 'on', 'a', 'new', 'horizon', 'Studies', 'show', 'that', 'AI', 'can', 'conduct', 'therapy', 'sessions', 'e-therapy', 'sessions', 'and', 'assessments', 'autonomously', 'also', 'assisting', 'human', 'practitioners', 'before', 'during', 'or', 'after', 'sessions', 'The', 'Detection', 'and', 'Computational', 'Analysis', 'of', 'Psychological', 'Signal', 'project', 'uses', 'ML', 'computer', 'vision', 'and', 'NLP', 'to', 'analyze', 'language', 'physical', 'gestures', 'and', 'social', 'signals', 'to', 'identify', 'cues', 'for', 'human', 'distress', 'This', 'ground-breaking', 'technology', 'assesses', 'soldiers', 'returning', 'from', 'combat', 'and', 'recognizes', 'those', 'who', 'require', 'further', 'mental', 'health', 'support', 'In', 'the', 'future', 'it', 'will', 'combine', 'data', 'captured', 'during', 'face-to-face', 'interviews', 'with', 'information', 'on', 'sleeping', 'eating', 'and', 'online', 'behaviours', 'for', 'a', 'complete', 'patient', 'view', 'Stroke', 'identification', 'Stroke', 'is', 'another', 'frequently', 'occurring', 'disease', 'that', 'affects', 'more', 'than', '500', 'million', 'people', 'worldwide', 'Thrombus', 'in', 'the', 'vessel', 'cerebral', 'infarction', 'is', 'the', 'major', 'about', '85', '%', 'cause', 'of', 'stroke', 'occurrence', 'In', 'recent', 'years', 'AI', 'techniques', 'have', 'been', 'used', 'in', 'numerous', 'stroke-related', 'studies', 'as', 'early', 'detection', 'and', 'timely', 'treatment', 'along', 'with', 'efficient', 'outcome', 'prediction', 'can', 'help', 'solve', 'the', 'problem', 'With', 'AI', 'at', 'our', 'disposal', 'large', 'amounts', 'of', 'data', 'with', 'rich', 'information', 'more', 'complications', 'and', 'real-life', 'clinical', 'questions', 'can', 'be', 'addressed', 'in', 'this', 'arena', 'Currently', 'two', 'ML', 'algorithms-', 'genetic', 'fuzzy', 'finite', 'state', 'machine', 'and', 'PCA', 'were', 'implemented', 'to', 'build', 'a', 'model', 'building', 'solution', 'These', 'include', 'a', 'human', 'activity', 'recognition', 'stage', 'and', 'a', 'stroke', 'onset', 'detection', 'stage', 'An', 'alert', 'stroke', 'message', 'is', 'activated', 'as', 'soon', 'as', 'a', 'movement', 'significantly', 'different', 'from', 'the', 'normal', 'pattern', 'is', 'recorded', 'ML', 'methods', 'have', 'been', 'applied', 'to', 'neuroimaging', 'data', 'to', 'assist', 'disease', 'evaluation', 'and', 'predicting', 'stroke', 'treatment', 'for', 'the', 'diagnosis', 'Patient', 'Monitoring', 'Today', 'the', 'market', 'for', 'AI-based', 'patient', 'monitoring', 'is', 'impressive', 'and', 'monetarily', 'enticing', 'It', 'is', 'evolving', 'with', 'artificial', 'sensors', 'smart', 'technologies', 'and', 'explores', 'everything', 'from', 'brain-computer', 'interfaces', 'to', 'nanorobotics', 'Companies', 'with', 'their', 'smart-watches', 'have', 'engaged', 'people', 'to', 'perform', 'remote', 'monitoring', 'even', 'when', 'they', 'are', 'not', '“', 'patients', '”', 'An', 'obvious', 'place', 'to', 'start', 'is', 'with', 'wearable', 'and', 'embedded', 'sensors', 'glucose', 'monitors', 'pulse', 'monitors', 'oximeters', 'and', 'ECG', 'monitors', 'With', 'patient', 'monitoring', 'becoming', 'crucial', 'AI', 'finds', 'numerous', 'applications', 'in', 'chronic', 'conditions', 'intensive', 'care', 'units', 'operating', 'rooms', 'emergency', 'rooms', 'and', 'cardiac', 'wards', 'where', 'timeless', 'clinical', 'decision-making', 'can', 'be', 'measured', 'in', 'seconds', 'More', 'advances', 'have', 'started', 'to', 'gain', 'traction', 'like', 'smart', 'prosthetics', 'and', 'implants', 'These', 'play', 'an', 'impeccable', 'role', 'in', 'patient', 'management', 'post-surgery', 'or', 'rehabilitation', 'Demographics', 'laboratory', 'results', 'and', 'vital', 'signs', 'can', 'also', 'be', 'used', 'to', 'predict', 'cardiac', 'arrest', 'transfer', 'into', 'the', 'intensive', 'care', 'unit', 'or', 'even', 'death', 'In', 'addition', 'an', 'interpretable', 'machine-learning', 'model', 'can', 'assist', 'anesthesiologists', 'in', 'predicting', 'hypoxaemia', 'events', 'during', 'surgery', 'This', 'suggests', 'that', 'with', 'deep-learning', 'algorithms', 'raw', 'patient-monitoring', 'data', 'could', 'be', 'better', 'used', 'to', 'avoid', 'information', 'overload', 'and', 'alert', 'overload', 'while', 'enabling', 'more', 'accurate', 'clinical', 'prediction', 'and', 'timely', 'decision-making', 'Conclusion', 'Considering', 'the', 'vast', 'range', 'of', 'tasks', 'that', 'an', 'AI', 'can', 'do', 'it', 'is', 'evident', 'that', 'it', 'holds', 'deep', 'potential', 'in', 'improving', 'patient', 'outcomes', 'to', 'skyrocketing', 'levels', 'Using', 'sophisticated', 'algorithms', 'AI', 'can', 'bring', 'a', 'revolution', 'in', 'the', 'healthcare', 'sector', 'Even', 'after', 'facing', 'challenges', 'like', 'whether', 'the', 'technology', 'will', 'be', 'able', 'to', 'deliver', 'the', 'promises', 'ethical', 'measures', 'training', 'physicians', 'to', 'use', 'it', 'standard', 'regulations', 'etc', 'the', 'role', 'of', 'AI', 'in', 'transforming', 'the', 'clinical', 'practices', 'can', 'not', 'be', 'ignored', 'The', 'biggest', 'challenge', 'is', 'the', 'integration', 'of', 'AI', 'in', 'daily', 'practice', 'All', 'of', 'these', 'can', 'be', 'overcome', 'and', 'within', 'that', 'period', 'the', 'technologies', 'will', 'mature', 'making', 'the', 'system', 'far', 'more', 'enhanced', 'and', 'effective', 'Blackcoffer', 'Insights', '29', 'Sanskriti', 'Sunderum', 'and', 'Aayushi', 'Nauhwar', 'SRCC', 'Delhi', 'University']\n"
          ]
        },
        {
          "output_type": "execute_result",
          "data": {
            "text/plain": [
              "['Challenges',\n",
              " 'and',\n",
              " 'Opportunities',\n",
              " 'of',\n",
              " 'Big',\n",
              " 'Data',\n",
              " 'in',\n",
              " 'Healthcare',\n",
              " 'Big',\n",
              " 'Data',\n",
              " 'To',\n",
              " 'begin',\n",
              " 'with',\n",
              " 'I',\n",
              " 'shall',\n",
              " 'first',\n",
              " 'like',\n",
              " 'to',\n",
              " 'explain',\n",
              " 'what',\n",
              " 'big',\n",
              " 'data',\n",
              " 'is',\n",
              " 'and',\n",
              " 'why',\n",
              " 'it',\n",
              " 'has',\n",
              " 'become',\n",
              " 'so',\n",
              " 'important',\n",
              " 'in',\n",
              " 'our',\n",
              " 'lives',\n",
              " 'Big',\n",
              " 'data',\n",
              " 'is',\n",
              " 'simply',\n",
              " 'data',\n",
              " 'but',\n",
              " 'with',\n",
              " 'a',\n",
              " 'huge',\n",
              " 'size',\n",
              " 'Data',\n",
              " 'that',\n",
              " 'is',\n",
              " 'not',\n",
              " 'just',\n",
              " 'voluminous',\n",
              " 'but',\n",
              " 'also',\n",
              " 'growing',\n",
              " 'exponentially',\n",
              " 'with',\n",
              " 'time',\n",
              " 'Such',\n",
              " 'data',\n",
              " 'sets',\n",
              " 'are',\n",
              " 'so',\n",
              " 'large',\n",
              " 'and',\n",
              " 'complex',\n",
              " 'that',\n",
              " 'it',\n",
              " 'is',\n",
              " 'not',\n",
              " 'possible',\n",
              " 'to',\n",
              " 'store',\n",
              " 'or',\n",
              " 'process',\n",
              " 'them',\n",
              " 'using',\n",
              " 'traditional',\n",
              " 'data',\n",
              " 'management',\n",
              " 'tools',\n",
              " 'So',\n",
              " 'how',\n",
              " 'huge',\n",
              " 'can',\n",
              " 'this',\n",
              " 'data',\n",
              " 'be',\n",
              " 'Social',\n",
              " 'media',\n",
              " 'sites',\n",
              " 'like',\n",
              " 'Facebook',\n",
              " 'generate',\n",
              " 'more',\n",
              " 'than',\n",
              " '500',\n",
              " 'terabytes',\n",
              " 'of',\n",
              " 'new',\n",
              " 'data',\n",
              " 'every',\n",
              " 'day',\n",
              " 'in',\n",
              " 'the',\n",
              " 'form',\n",
              " 'of',\n",
              " 'photos',\n",
              " 'video',\n",
              " 'uploads',\n",
              " 'text',\n",
              " 'messages',\n",
              " 'etc',\n",
              " 'A',\n",
              " 'single',\n",
              " 'Jet',\n",
              " 'engine',\n",
              " 'can',\n",
              " 'generate',\n",
              " 'more',\n",
              " 'than',\n",
              " '10',\n",
              " 'terabytes',\n",
              " 'of',\n",
              " 'data',\n",
              " 'in',\n",
              " '30',\n",
              " 'minutes',\n",
              " 'of',\n",
              " 'flight',\n",
              " 'time',\n",
              " 'With',\n",
              " 'many',\n",
              " 'thousand',\n",
              " 'flights',\n",
              " 'per',\n",
              " 'day',\n",
              " 'generation',\n",
              " 'of',\n",
              " 'data',\n",
              " 'reaches',\n",
              " 'up',\n",
              " 'to',\n",
              " 'many',\n",
              " 'petabytes',\n",
              " 'Data',\n",
              " 'contained',\n",
              " 'in',\n",
              " 'these',\n",
              " 'sets',\n",
              " 'are',\n",
              " 'not',\n",
              " 'always',\n",
              " 'structured',\n",
              " 'It',\n",
              " 'can',\n",
              " 'be',\n",
              " 'semi-structured',\n",
              " 'or',\n",
              " 'even',\n",
              " 'unstructured',\n",
              " 'When',\n",
              " 'such',\n",
              " 'is',\n",
              " 'the',\n",
              " 'size',\n",
              " 'and',\n",
              " 'dimension',\n",
              " 'of',\n",
              " 'data',\n",
              " 'we',\n",
              " 'can',\n",
              " 'well',\n",
              " 'imagine',\n",
              " 'how',\n",
              " 'complicated',\n",
              " 'it',\n",
              " 'must',\n",
              " 'be',\n",
              " 'to',\n",
              " 'process',\n",
              " 'and',\n",
              " 'analyze',\n",
              " 'it',\n",
              " 'Therefore',\n",
              " 'modern',\n",
              " 'methods',\n",
              " 'of',\n",
              " 'data',\n",
              " 'analysis',\n",
              " 'are',\n",
              " 'being',\n",
              " 'developed',\n",
              " 'and',\n",
              " 'used',\n",
              " 'to',\n",
              " 'process',\n",
              " 'the',\n",
              " 'information',\n",
              " 'contained',\n",
              " 'in',\n",
              " 'big',\n",
              " 'data',\n",
              " 'sets',\n",
              " 'Opportunities',\n",
              " 'Now',\n",
              " 'coming',\n",
              " 'to',\n",
              " 'the',\n",
              " 'opportunities',\n",
              " 'that',\n",
              " 'Big',\n",
              " 'Data',\n",
              " 'provides',\n",
              " 'they',\n",
              " 'are',\n",
              " 'not',\n",
              " 'just',\n",
              " 'limited',\n",
              " 'to',\n",
              " 'healthcare',\n",
              " 'Big',\n",
              " 'data',\n",
              " 'analysis',\n",
              " 'is',\n",
              " 'now',\n",
              " 'a',\n",
              " 'disruptive',\n",
              " 'technology',\n",
              " 'which',\n",
              " 'has',\n",
              " 'intervened',\n",
              " 'into',\n",
              " 'numerous',\n",
              " 'fields',\n",
              " 'and',\n",
              " 'proved',\n",
              " 'its',\n",
              " 'worth',\n",
              " 'Healthcare',\n",
              " 'is',\n",
              " 'no',\n",
              " 'exception',\n",
              " 'Big',\n",
              " 'data',\n",
              " 'has',\n",
              " 'the',\n",
              " 'potential',\n",
              " 'to',\n",
              " 'change',\n",
              " 'the',\n",
              " 'entire',\n",
              " 'dynamics',\n",
              " 'of',\n",
              " 'the',\n",
              " 'healthcare',\n",
              " 'industry',\n",
              " 'and',\n",
              " 'improve',\n",
              " 'the',\n",
              " 'quality',\n",
              " 'of',\n",
              " 'life',\n",
              " 'of',\n",
              " 'people',\n",
              " 'Healthcare',\n",
              " 'industry',\n",
              " 'is',\n",
              " 'a',\n",
              " 'very',\n",
              " 'large',\n",
              " 'and',\n",
              " 'complicated',\n",
              " 'system',\n",
              " 'It',\n",
              " 'involves',\n",
              " 'a',\n",
              " 'lot',\n",
              " 'of',\n",
              " 'risks',\n",
              " 'and',\n",
              " 'always',\n",
              " 'demands',\n",
              " 'better',\n",
              " 'care',\n",
              " 'However',\n",
              " 'when',\n",
              " 'a',\n",
              " 'large',\n",
              " 'number',\n",
              " 'of',\n",
              " 'patients',\n",
              " 'seek',\n",
              " 'emergency',\n",
              " 'care',\n",
              " 'the',\n",
              " 'complications',\n",
              " 'as',\n",
              " 'well',\n",
              " 'as',\n",
              " 'the',\n",
              " 'cost',\n",
              " 'rise',\n",
              " 'exponentially',\n",
              " 'In',\n",
              " 'India',\n",
              " 'many',\n",
              " 'times',\n",
              " 'we',\n",
              " 'even',\n",
              " 'lack',\n",
              " 'sufficient',\n",
              " 'infrastructure',\n",
              " 'to',\n",
              " 'support',\n",
              " 'the',\n",
              " 'patients',\n",
              " 'there',\n",
              " 'is',\n",
              " 'a',\n",
              " 'deficit',\n",
              " 'of',\n",
              " 'beds',\n",
              " 'as',\n",
              " 'well',\n",
              " 'as',\n",
              " 'doctors',\n",
              " 'to',\n",
              " 'provide',\n",
              " 'treatment',\n",
              " 'to',\n",
              " 'the',\n",
              " 'patients',\n",
              " 'For',\n",
              " 'instance',\n",
              " 'when',\n",
              " 'epidemics',\n",
              " 'break',\n",
              " 'out',\n",
              " 'and',\n",
              " 'lives',\n",
              " 'are',\n",
              " 'lost',\n",
              " 'at',\n",
              " 'a',\n",
              " 'very',\n",
              " 'alarming',\n",
              " 'rate',\n",
              " 'we',\n",
              " 'can',\n",
              " 'easily',\n",
              " 'gauge',\n",
              " 'our',\n",
              " 'helplessness',\n",
              " 'However',\n",
              " 'the',\n",
              " 'scenario',\n",
              " 'is',\n",
              " 'certainly',\n",
              " 'improving',\n",
              " 'now',\n",
              " 'With',\n",
              " 'the',\n",
              " 'advent',\n",
              " 'of',\n",
              " 'digitization',\n",
              " 'into',\n",
              " 'the',\n",
              " 'healthcare',\n",
              " 'system',\n",
              " 'healthcare',\n",
              " 'providers',\n",
              " 'or',\n",
              " 'practitioners',\n",
              " 'are',\n",
              " 'now',\n",
              " 'having',\n",
              " 'access',\n",
              " 'to',\n",
              " 'a',\n",
              " 'huge',\n",
              " 'amount',\n",
              " 'of',\n",
              " 'patient',\n",
              " 'health',\n",
              " 'data',\n",
              " 'This',\n",
              " 'healthcare',\n",
              " 'big',\n",
              " 'data',\n",
              " 'can',\n",
              " 'be',\n",
              " 'processed',\n",
              " 'and',\n",
              " 'analyzed',\n",
              " 'to',\n",
              " 'identify',\n",
              " 'patient',\n",
              " 'patterns',\n",
              " 'more',\n",
              " 'quickly',\n",
              " 'and',\n",
              " 'effectively',\n",
              " 'The',\n",
              " 'information',\n",
              " 'obtained',\n",
              " 'can',\n",
              " 'be',\n",
              " 'extremely',\n",
              " 'useful',\n",
              " 'to',\n",
              " 'figure',\n",
              " 'out',\n",
              " 'chronic',\n",
              " 'health',\n",
              " 'issues',\n",
              " 'and',\n",
              " 'provide',\n",
              " 'preventive',\n",
              " 'treatment',\n",
              " 'plans',\n",
              " 'well',\n",
              " 'beforehand',\n",
              " 'so',\n",
              " 'as',\n",
              " 'to',\n",
              " 'curb',\n",
              " 'that',\n",
              " 'disease',\n",
              " 'or',\n",
              " 'disorder',\n",
              " 'from',\n",
              " 'occurring',\n",
              " 'This',\n",
              " 'method',\n",
              " 'is',\n",
              " 'also',\n",
              " 'known',\n",
              " 'as',\n",
              " 'predictive',\n",
              " 'analysis',\n",
              " 'and',\n",
              " 'it',\n",
              " 'is',\n",
              " 'one',\n",
              " 'of',\n",
              " 'the',\n",
              " 'most',\n",
              " 'crucial',\n",
              " 'benefits',\n",
              " 'of',\n",
              " 'big',\n",
              " 'data',\n",
              " 'in',\n",
              " 'healthcare',\n",
              " 'This',\n",
              " 'technology',\n",
              " 'can',\n",
              " 'help',\n",
              " 'the',\n",
              " 'healthcare',\n",
              " 'industry',\n",
              " 'in',\n",
              " 'more',\n",
              " 'ways',\n",
              " 'than',\n",
              " 'we',\n",
              " 'can',\n",
              " 'infer',\n",
              " 'Healthcare',\n",
              " 'organizations',\n",
              " 'that',\n",
              " 'have',\n",
              " 'implemented',\n",
              " 'predictive',\n",
              " 'analysis',\n",
              " 'have',\n",
              " 'witnessed',\n",
              " 'a',\n",
              " 'reduction',\n",
              " 'in',\n",
              " 'ER',\n",
              " 'visits',\n",
              " 'by',\n",
              " 'providing',\n",
              " 'support',\n",
              " 'and',\n",
              " 'care',\n",
              " 'to',\n",
              " 'patients',\n",
              " 'and',\n",
              " 'decreasing',\n",
              " 'emergency',\n",
              " 'situations',\n",
              " 'Apart',\n",
              " 'from',\n",
              " 'reduced',\n",
              " 'ER',\n",
              " 'visits',\n",
              " 'and',\n",
              " 'timely',\n",
              " 'treatment',\n",
              " 'there',\n",
              " 'are',\n",
              " 'many',\n",
              " 'other',\n",
              " 'benefits',\n",
              " 'of',\n",
              " 'big',\n",
              " 'data',\n",
              " 'and',\n",
              " 'predictive',\n",
              " 'analysis',\n",
              " 'Patients',\n",
              " 'with',\n",
              " 'high-risk',\n",
              " 'life-threatening',\n",
              " 'issues',\n",
              " 'can',\n",
              " 'be',\n",
              " 'provided',\n",
              " 'with',\n",
              " 'more',\n",
              " 'customized',\n",
              " 'treatment',\n",
              " 'facilities',\n",
              " 'Due',\n",
              " 'to',\n",
              " 'lack',\n",
              " 'of',\n",
              " 'data',\n",
              " 'there',\n",
              " 'exists',\n",
              " 'a',\n",
              " 'lack',\n",
              " 'of',\n",
              " 'proper',\n",
              " 'planning',\n",
              " 'in',\n",
              " 'hospitals',\n",
              " 'Under',\n",
              " 'or',\n",
              " 'over-booking',\n",
              " 'of',\n",
              " 'staff',\n",
              " 'lack',\n",
              " 'of',\n",
              " 'medical',\n",
              " 'equipment',\n",
              " 'medicines',\n",
              " 'and',\n",
              " 'other',\n",
              " 'facilities',\n",
              " 'are',\n",
              " 'a',\n",
              " 'result',\n",
              " 'of',\n",
              " 'inefficient',\n",
              " 'budgeting',\n",
              " 'and',\n",
              " 'ill-management',\n",
              " 'of',\n",
              " 'finances',\n",
              " 'Using',\n",
              " 'predictive',\n",
              " 'analysis',\n",
              " 'these',\n",
              " 'problems',\n",
              " 'can',\n",
              " 'be',\n",
              " 'solved',\n",
              " 'which',\n",
              " 'will',\n",
              " 'lead',\n",
              " 'to',\n",
              " 'reduced',\n",
              " 'costs',\n",
              " 'and',\n",
              " 'efficient',\n",
              " 'management',\n",
              " 'of',\n",
              " 'finances',\n",
              " 'Better',\n",
              " 'staff',\n",
              " 'allocation',\n",
              " 'and',\n",
              " 'admission',\n",
              " 'rate',\n",
              " 'prediction',\n",
              " 'shall',\n",
              " 'facilitate',\n",
              " 'improvement',\n",
              " 'in',\n",
              " 'daily',\n",
              " 'operations',\n",
              " 'of',\n",
              " 'healthcare',\n",
              " 'organizations',\n",
              " 'By',\n",
              " 'using',\n",
              " 'big',\n",
              " 'data',\n",
              " 'the',\n",
              " 'effect',\n",
              " 'of',\n",
              " 'recency',\n",
              " 'bias',\n",
              " 'could',\n",
              " 'be',\n",
              " 'reduced',\n",
              " 'as',\n",
              " 'well',\n",
              " 'When',\n",
              " 'we',\n",
              " 'give',\n",
              " 'more',\n",
              " 'importance',\n",
              " 'to',\n",
              " 'recent',\n",
              " 'events',\n",
              " 'and',\n",
              " 'tend',\n",
              " 'to',\n",
              " 'ignore',\n",
              " 'the',\n",
              " 'effect',\n",
              " 'of',\n",
              " 'the',\n",
              " 'older',\n",
              " 'ones',\n",
              " 'it',\n",
              " 'may',\n",
              " 'lead',\n",
              " 'to',\n",
              " 'incorrect',\n",
              " 'decisions',\n",
              " 'This',\n",
              " 'is',\n",
              " 'known',\n",
              " 'as',\n",
              " 'recency',\n",
              " 'bias',\n",
              " 'Big',\n",
              " 'data',\n",
              " 'also',\n",
              " 'helps',\n",
              " 'in',\n",
              " 'preventing',\n",
              " 'fraudulent',\n",
              " 'activities',\n",
              " 'which',\n",
              " 'in',\n",
              " 'turn',\n",
              " 'prevents',\n",
              " 'losses',\n",
              " 'of',\n",
              " 'insurance',\n",
              " 'companies',\n",
              " 'Challenges',\n",
              " 'While',\n",
              " 'all',\n",
              " 'of',\n",
              " 'this',\n",
              " 'is',\n",
              " 'changing',\n",
              " 'the',\n",
              " 'healthcare',\n",
              " 'industry',\n",
              " 'for',\n",
              " 'the',\n",
              " 'better',\n",
              " 'it',\n",
              " 'is',\n",
              " 'not',\n",
              " 'that',\n",
              " 'easy',\n",
              " 'to',\n",
              " 'reap',\n",
              " 'the',\n",
              " 'benefits',\n",
              " 'of',\n",
              " 'big',\n",
              " 'data',\n",
              " 'There',\n",
              " 'are',\n",
              " 'a',\n",
              " 'whole',\n",
              " 'lot',\n",
              " 'of',\n",
              " 'challenges',\n",
              " 'and',\n",
              " 'vulnerabilities',\n",
              " 'attached',\n",
              " 'to',\n",
              " 'its',\n",
              " 'implementation',\n",
              " 'One',\n",
              " 'of',\n",
              " 'the',\n",
              " 'biggest',\n",
              " 'challenges',\n",
              " 'is',\n",
              " 'security',\n",
              " 'Healthcare',\n",
              " 'big',\n",
              " 'data',\n",
              " 'contains',\n",
              " 'the',\n",
              " 'personal',\n",
              " 'information',\n",
              " 'and',\n",
              " 'health',\n",
              " 'history',\n",
              " 'of',\n",
              " 'patients',\n",
              " 'Acts',\n",
              " 'of',\n",
              " 'hacking',\n",
              " 'cyber',\n",
              " 'theft',\n",
              " 'and',\n",
              " 'phishing',\n",
              " 'pose',\n",
              " 'a',\n",
              " 'serious',\n",
              " 'threat',\n",
              " 'to',\n",
              " 'these',\n",
              " 'databases',\n",
              " 'Such',\n",
              " 'data',\n",
              " 'could',\n",
              " 'be',\n",
              " 'stolen',\n",
              " 'and',\n",
              " 'sold',\n",
              " 'for',\n",
              " 'huge',\n",
              " 'sums',\n",
              " 'of',\n",
              " 'money',\n",
              " 'Protection',\n",
              " 'of',\n",
              " 'the',\n",
              " 'patients',\n",
              " '’',\n",
              " 'privacy',\n",
              " 'hence',\n",
              " 'is',\n",
              " 'a',\n",
              " 'serious',\n",
              " 'challenge',\n",
              " 'to',\n",
              " 'big',\n",
              " 'data',\n",
              " 'implementation',\n",
              " 'Also',\n",
              " 'the',\n",
              " 'data',\n",
              " 'would',\n",
              " 'contain',\n",
              " 'external',\n",
              " 'data',\n",
              " 'apart',\n",
              " 'from',\n",
              " 'medical',\n",
              " 'information',\n",
              " 'The',\n",
              " 'organization',\n",
              " 'therefore',\n",
              " 'has',\n",
              " 'to',\n",
              " 'take',\n",
              " 'care',\n",
              " 'of',\n",
              " 'privacy',\n",
              " 'legal',\n",
              " 'compliances',\n",
              " 'and',\n",
              " 'government',\n",
              " 'policies',\n",
              " 'Privacy',\n",
              " 'and',\n",
              " 'security',\n",
              " 'of',\n",
              " 'patients',\n",
              " 'have',\n",
              " 'to',\n",
              " 'be',\n",
              " 'given',\n",
              " 'utmost',\n",
              " 'importance',\n",
              " 'and',\n",
              " 'no',\n",
              " 'breach',\n",
              " 'of',\n",
              " 'any',\n",
              " 'kind',\n",
              " 'can',\n",
              " 'be',\n",
              " 'permitted',\n",
              " 'The',\n",
              " 'next',\n",
              " 'challenge',\n",
              " 'is',\n",
              " 'data',\n",
              " 'classification',\n",
              " 'and',\n",
              " 'modeling',\n",
              " 'The',\n",
              " 'size',\n",
              " 'of',\n",
              " 'the',\n",
              " 'data',\n",
              " 'is',\n",
              " 'massive',\n",
              " 'and',\n",
              " 'it',\n",
              " 'is',\n",
              " 'less',\n",
              " 'structured',\n",
              " 'and',\n",
              " 'heterogeneous',\n",
              " 'Classifying',\n",
              " 'such',\n",
              " 'massive',\n",
              " 'data',\n",
              " 'to',\n",
              " 'identify',\n",
              " 'relevant',\n",
              " 'information',\n",
              " 'is',\n",
              " 'a',\n",
              " 'big',\n",
              " 'challenge',\n",
              " 'Modeling',\n",
              " 'of',\n",
              " 'such',\n",
              " 'unstructured',\n",
              " 'data',\n",
              " 'is',\n",
              " 'equally',\n",
              " 'difficult',\n",
              " 'Storage',\n",
              " 'and',\n",
              " 'retrieval',\n",
              " 'is',\n",
              " 'another',\n",
              " 'major',\n",
              " 'challenge',\n",
              " 'Huge',\n",
              " 'cloud',\n",
              " 'servers',\n",
              " 'with',\n",
              " 'sufficient',\n",
              " 'space',\n",
              " 'are',\n",
              " 'required',\n",
              " 'to',\n",
              " 'store',\n",
              " 'such',\n",
              " 'voluminous',\n",
              " 'data',\n",
              " 'Also',\n",
              " 'the',\n",
              " 'speed',\n",
              " 'should',\n",
              " 'be',\n",
              " 'high',\n",
              " 'so',\n",
              " 'that',\n",
              " 'uploading',\n",
              " 'of',\n",
              " 'data',\n",
              " 'can',\n",
              " 'be',\n",
              " 'done',\n",
              " 'hassle-free',\n",
              " 'The',\n",
              " 'way',\n",
              " 'storage',\n",
              " 'is',\n",
              " 'a',\n",
              " 'challenge',\n",
              " 'retrieval',\n",
              " 'also',\n",
              " 'is',\n",
              " 'a',\n",
              " 'matter',\n",
              " 'of',\n",
              " 'concern',\n",
              " 'Integrating',\n",
              " 'the',\n",
              " 'data',\n",
              " 'and',\n",
              " 'getting',\n",
              " 'all',\n",
              " 'relevant',\n",
              " 'systems',\n",
              " 'to',\n",
              " 'link',\n",
              " 'each',\n",
              " 'other',\n",
              " 'is',\n",
              " 'a',\n",
              " 'tough',\n",
              " 'job',\n",
              " 'The',\n",
              " 'next',\n",
              " 'challenge',\n",
              " 'is',\n",
              " 'a',\n",
              " 'major',\n",
              " 'one',\n",
              " 'in',\n",
              " 'my',\n",
              " 'opinion',\n",
              " 'Finding',\n",
              " 'the',\n",
              " 'right',\n",
              " 'talent',\n",
              " 'who',\n",
              " 'own',\n",
              " 'the',\n",
              " 'expertise',\n",
              " 'to',\n",
              " 'implement',\n",
              " 'this',\n",
              " 'modern',\n",
              " 'technology',\n",
              " 'is',\n",
              " 'an',\n",
              " 'arduous',\n",
              " 'task',\n",
              " 'Shortage',\n",
              " 'of',\n",
              " 'required',\n",
              " 'talent',\n",
              " 'is',\n",
              " 'a',\n",
              " 'crisis',\n",
              " 'in',\n",
              " 'the',\n",
              " 'market',\n",
              " 'today',\n",
              " 'Even',\n",
              " 'after',\n",
              " 'hiring',\n",
              " 'the',\n",
              " 'right',\n",
              " 'talent',\n",
              " 'it',\n",
              " 'is',\n",
              " 'a',\n",
              " 'challenge',\n",
              " 'to',\n",
              " 'retain',\n",
              " 'them',\n",
              " 'Scarce',\n",
              " 'resources',\n",
              " 'like',\n",
              " 'data',\n",
              " 'scientists',\n",
              " 'are',\n",
              " 'hard',\n",
              " 'to',\n",
              " 'find',\n",
              " 'and',\n",
              " 'even',\n",
              " 'harder',\n",
              " 'to',\n",
              " 'retain',\n",
              " 'They',\n",
              " 'are',\n",
              " 'easily',\n",
              " 'poached',\n",
              " 'by',\n",
              " 'competitors',\n",
              " 'A',\n",
              " 'good',\n",
              " 'and',\n",
              " 'efficient',\n",
              " 'compensation',\n",
              " 'strategy',\n",
              " 'conducive',\n",
              " 'work',\n",
              " 'environment',\n",
              " 'high',\n",
              " 'incentives',\n",
              " 'opportunities',\n",
              " 'for',\n",
              " 'career',\n",
              " 'growth',\n",
              " 'and',\n",
              " 'development',\n",
              " 'can',\n",
              " 'be',\n",
              " 'some',\n",
              " 'of',\n",
              " 'the',\n",
              " 'ways',\n",
              " 'of',\n",
              " 'retaining',\n",
              " ...]"
            ]
          },
          "metadata": {},
          "execution_count": 35
        }
      ]
    },
    {
      "cell_type": "code",
      "source": [
        "len(tokenize_text)"
      ],
      "metadata": {
        "colab": {
          "base_uri": "https://localhost:8080/"
        },
        "id": "1do6_JJHOxkB",
        "outputId": "a1054edf-0a7c-4559-b275-a975285bfbb5"
      },
      "execution_count": null,
      "outputs": [
        {
          "output_type": "execute_result",
          "data": {
            "text/plain": [
              "1822"
            ]
          },
          "metadata": {},
          "execution_count": 36
        }
      ]
    },
    {
      "cell_type": "code",
      "source": [
        "positive_score=0\n",
        "for i in tokenize_text:\n",
        "  if(i.lower() in post):\n",
        "    positive_score+=1\n",
        "print('postive score=', positive_score)"
      ],
      "metadata": {
        "colab": {
          "base_uri": "https://localhost:8080/"
        },
        "id": "vRjoS4r2Oxo2",
        "outputId": "6c0c5d1f-3753-4395-b755-20008c8dfa7f"
      },
      "execution_count": null,
      "outputs": [
        {
          "output_type": "stream",
          "name": "stdout",
          "text": [
            "postive score= 81\n"
          ]
        }
      ]
    },
    {
      "cell_type": "code",
      "source": [
        "negative_score=0\n",
        "for i in tokenize_text:\n",
        "  if(i.lower() in neg):\n",
        "    negative_score+=1\n",
        "print('negative score=', negative_score)"
      ],
      "metadata": {
        "colab": {
          "base_uri": "https://localhost:8080/"
        },
        "id": "avx8HXkiOxqB",
        "outputId": "05a3a6d4-1e10-446c-f279-eec6ec95f10b"
      },
      "execution_count": null,
      "outputs": [
        {
          "output_type": "stream",
          "name": "stdout",
          "text": [
            "negative score= 34\n"
          ]
        }
      ]
    },
    {
      "cell_type": "code",
      "source": [
        "Polarity_Score=(positive_score-negative_score)/((positive_score+negative_score)+0.000001)\n",
        "print('polarity_score=', Polarity_Score)"
      ],
      "metadata": {
        "colab": {
          "base_uri": "https://localhost:8080/"
        },
        "id": "jaE2yKBMOxsd",
        "outputId": "6acdc0d5-60de-48a2-d721-95127a191e48"
      },
      "execution_count": null,
      "outputs": [
        {
          "output_type": "stream",
          "name": "stdout",
          "text": [
            "polarity_score= 0.4086956486200378\n"
          ]
        }
      ]
    },
    {
      "cell_type": "code",
      "source": [
        "subjectiivity_score=(positive_score-negative_score)/((len(tokenize_text))+ 0.000001)\n",
        "print('subjectivity_score',subjectiivity_score)"
      ],
      "metadata": {
        "colab": {
          "base_uri": "https://localhost:8080/"
        },
        "id": "KxK0ytHvOxuo",
        "outputId": "4ca22574-6398-4b35-c5b9-3aa32b552485"
      },
      "execution_count": null,
      "outputs": [
        {
          "output_type": "stream",
          "name": "stdout",
          "text": [
            "subjectivity_score 0.025795828745446853\n"
          ]
        }
      ]
    },
    {
      "cell_type": "code",
      "source": [
        "length=c.shape[0]\n",
        "avg_length=[]\n",
        "for i in range(0,length):\n",
        "  avg_length.append(len(c['abc'].iloc[i]))\n",
        "avg_senetence_length=sum(avg_length)/len(avg_length)\n",
        "print('avg sentence length=', avg_senetence_length)"
      ],
      "metadata": {
        "colab": {
          "base_uri": "https://localhost:8080/"
        },
        "id": "P_sGSTD4OxxK",
        "outputId": "f23ff736-1d56-47ad-abcb-a22a5ffdc683"
      },
      "execution_count": null,
      "outputs": [
        {
          "output_type": "stream",
          "name": "stdout",
          "text": [
            "avg sentence length= 155.0909090909091\n"
          ]
        }
      ]
    },
    {
      "cell_type": "code",
      "source": [
        "vowels=['a','e','i','o','u']\n",
        "import re\n",
        "count=0\n",
        "complex_Word_Count=0\n",
        "for i in tokenize_text:\n",
        "  x=re.compile('[es|ed]$')\n",
        "  if x.match(i.lower()):\n",
        "   count+=0\n",
        "  else:\n",
        "    for j in i:\n",
        "      if(j.lower() in vowels ):\n",
        "        count+=1\n",
        "  if(count>2):\n",
        "   complex_Word_Count+=1\n",
        "  count=0"
      ],
      "metadata": {
        "id": "25nWubggOx0F"
      },
      "execution_count": null,
      "outputs": []
    },
    {
      "cell_type": "code",
      "source": [
        "Percentage_of_Complex_words=complex_Word_Count/len(tokenize_text)\n",
        "print('percentag of complex words= ',Percentage_of_Complex_words)"
      ],
      "metadata": {
        "colab": {
          "base_uri": "https://localhost:8080/"
        },
        "id": "EljmeYcMOx3a",
        "outputId": "fcf7e4b2-1952-479b-ffa4-c83f1718dad8"
      },
      "execution_count": null,
      "outputs": [
        {
          "output_type": "stream",
          "name": "stdout",
          "text": [
            "percentag of complex words=  0.34851811196487376\n"
          ]
        }
      ]
    },
    {
      "cell_type": "code",
      "source": [
        "Fog_Index = 0.4 * (avg_senetence_length + Percentage_of_Complex_words)\n",
        "print('fog index= ',Fog_Index )\n"
      ],
      "metadata": {
        "colab": {
          "base_uri": "https://localhost:8080/"
        },
        "id": "iJ9gxzXrPK8T",
        "outputId": "ccab1460-a009-4086-e68b-45bfddb80472"
      },
      "execution_count": null,
      "outputs": [
        {
          "output_type": "stream",
          "name": "stdout",
          "text": [
            "fog index=  62.17577088114959\n"
          ]
        }
      ]
    },
    {
      "cell_type": "code",
      "source": [
        "length=c.shape[0]\n",
        "avg_length=[]\n",
        "for i in range(0,length):\n",
        "  a=[word.split( ) for word in c.iloc[i]]\n",
        "  avg_length.append(len(a[0]))\n",
        "  a=0"
      ],
      "metadata": {
        "id": "J3ZVQYBQPK_R"
      },
      "execution_count": null,
      "outputs": []
    },
    {
      "cell_type": "code",
      "source": [
        "avg_no_of_words_per_sentence=sum(avg_length)/length\n",
        "print(\"avg no of words per sentence= \",avg_no_of_words_per_sentence)"
      ],
      "metadata": {
        "colab": {
          "base_uri": "https://localhost:8080/"
        },
        "id": "JJa0N3DDPLCL",
        "outputId": "2da6d036-d576-4a65-dbe6-5f50ad8c4f6e"
      },
      "execution_count": null,
      "outputs": [
        {
          "output_type": "stream",
          "name": "stdout",
          "text": [
            "avg no of words per sentence=  23.337662337662337\n"
          ]
        }
      ]
    },
    {
      "cell_type": "code",
      "source": [
        "vowels=['a','e','i','o','u']\n",
        "import re\n",
        "count=0\n",
        "complex_Word_Count=0\n",
        "for i in tokenize_text:\n",
        "  x=re.compile('[es|ed]$')\n",
        "  if x.match(i.lower()):\n",
        "   count+=0\n",
        "  else:\n",
        "    for j in i:\n",
        "      if(j.lower() in vowels ):\n",
        "        count+=1\n",
        "  if(count>2):\n",
        "   complex_Word_Count+=1\n",
        "  count=0\n",
        "print('complex words count=',  complex_Word_Count)\n"
      ],
      "metadata": {
        "colab": {
          "base_uri": "https://localhost:8080/"
        },
        "id": "UGP9uKSOPLEz",
        "outputId": "62e35dd5-c8b2-4885-c655-d3e6f14980cc"
      },
      "execution_count": null,
      "outputs": [
        {
          "output_type": "stream",
          "name": "stdout",
          "text": [
            "complex words count= 635\n"
          ]
        }
      ]
    },
    {
      "cell_type": "code",
      "source": [
        "word_count=len(tokenize_text)\n",
        "print('word count= ', word_count)\n"
      ],
      "metadata": {
        "colab": {
          "base_uri": "https://localhost:8080/"
        },
        "id": "fTt7xbWOPLHh",
        "outputId": "457ac5a4-f78a-4023-da2d-c232fa855f1c"
      },
      "execution_count": null,
      "outputs": [
        {
          "output_type": "stream",
          "name": "stdout",
          "text": [
            "word count=  1822\n"
          ]
        }
      ]
    },
    {
      "cell_type": "code",
      "source": [
        "vowels=['a','e','i','o','u']\n",
        "import re\n",
        "count=0\n",
        "for i in tokenize_text:\n",
        "  x=re.compile('[es|ed]$')\n",
        "  if x.match(i.lower()):\n",
        "   count+=0\n",
        "  else:\n",
        "    for j in i:\n",
        "      if(j.lower() in vowels ):\n",
        "        count+=1\n",
        "syllable_count=count\n",
        "print('syllable_per_word= ',syllable_count)\n"
      ],
      "metadata": {
        "colab": {
          "base_uri": "https://localhost:8080/"
        },
        "id": "U_qPC4LhPLKJ",
        "outputId": "b5c81332-0a38-4b4b-f185-4bfd4b2bc2cb"
      },
      "execution_count": null,
      "outputs": [
        {
          "output_type": "stream",
          "name": "stdout",
          "text": [
            "syllable_per_word=  3924\n"
          ]
        }
      ]
    },
    {
      "cell_type": "code",
      "source": [
        "pronouns=['i','we','my','ours','us' ]\n",
        "import re\n",
        "count=0\n",
        "for i in tokenize_text:\n",
        "  if i.lower() in pronouns:\n",
        "   count+=1\n",
        "personal_pronouns=count\n",
        "print('personal pronouns= ',personal_pronouns )\n"
      ],
      "metadata": {
        "colab": {
          "base_uri": "https://localhost:8080/"
        },
        "id": "Qu4PFtMzPLMw",
        "outputId": "b8a6c93a-e494-4ddd-c47d-573c661f9209"
      },
      "execution_count": null,
      "outputs": [
        {
          "output_type": "stream",
          "name": "stdout",
          "text": [
            "personal pronouns=  1\n"
          ]
        }
      ]
    },
    {
      "cell_type": "code",
      "source": [
        "count=0\n",
        "for i in tokenize_text:\n",
        "  for j in i:\n",
        "    count+=1\n",
        "avg_word_length=count/len(tokenize_text)\n",
        "print('avg word= ', avg_word_length)\n",
        "\n",
        "data={'positive_score':positive_score,'negative_score':negative_score,'Polarity_Score':Polarity_Score,'subjectiivity_score':subjectiivity_score,'avg_senetence_length':avg_senetence_length,'Percentage_of_Complex_words':Percentage_of_Complex_words,'Fog_Index':Fog_Index,'avg_no_of_words_per_sentence':avg_no_of_words_per_sentence,'complex_Word_Count':complex_Word_Count,'word_count':word_count,'syllable_count':syllable_count,'personal_pronouns':personal_pronouns,'avg_word_length':avg_word_length}\n",
        "     \n"
      ],
      "metadata": {
        "colab": {
          "base_uri": "https://localhost:8080/"
        },
        "id": "-OhRJL1-PLQK",
        "outputId": "3004300f-7ffc-4f5b-edde-5283020c65e9"
      },
      "execution_count": null,
      "outputs": [
        {
          "output_type": "stream",
          "name": "stdout",
          "text": [
            "avg word=  5.610318331503842\n"
          ]
        }
      ]
    },
    {
      "cell_type": "code",
      "source": [
        "output=pd.DataFrame()\n",
        "output=output.append(data,ignore_index=True)\n",
        "output.columns=['positive_score','negative_score','Polarity_Score','subjectiivity_score','avg_senetence_length','Percentage_of_Complex_words','Fog_Index','avg_no_of_words_per_sentence','complex_Word_Count','word_count','syllable_count','personal_pronouns','avg_word_length']\n"
      ],
      "metadata": {
        "id": "x1EHsuXjPhh_"
      },
      "execution_count": null,
      "outputs": []
    },
    {
      "cell_type": "code",
      "source": [
        "output"
      ],
      "metadata": {
        "colab": {
          "base_uri": "https://localhost:8080/",
          "height": 145
        },
        "id": "GGV5yClKqM6v",
        "outputId": "00377aee-da12-485a-edce-da567ada46d7"
      },
      "execution_count": null,
      "outputs": [
        {
          "output_type": "execute_result",
          "data": {
            "text/plain": [
              "   positive_score  negative_score  Polarity_Score  subjectiivity_score  \\\n",
              "0            81.0            34.0        0.408696             0.025796   \n",
              "\n",
              "   avg_senetence_length  Percentage_of_Complex_words  Fog_Index  \\\n",
              "0            155.090909                     0.348518  62.175771   \n",
              "\n",
              "   avg_no_of_words_per_sentence  complex_Word_Count  word_count  \\\n",
              "0                     23.337662               635.0      1822.0   \n",
              "\n",
              "   syllable_count  personal_pronouns  avg_word_length  \n",
              "0          3924.0                1.0         5.610318  "
            ],
            "text/html": [
              "\n",
              "  <div id=\"df-a0626b22-f396-4256-b6ca-20af0956b38e\">\n",
              "    <div class=\"colab-df-container\">\n",
              "      <div>\n",
              "<style scoped>\n",
              "    .dataframe tbody tr th:only-of-type {\n",
              "        vertical-align: middle;\n",
              "    }\n",
              "\n",
              "    .dataframe tbody tr th {\n",
              "        vertical-align: top;\n",
              "    }\n",
              "\n",
              "    .dataframe thead th {\n",
              "        text-align: right;\n",
              "    }\n",
              "</style>\n",
              "<table border=\"1\" class=\"dataframe\">\n",
              "  <thead>\n",
              "    <tr style=\"text-align: right;\">\n",
              "      <th></th>\n",
              "      <th>positive_score</th>\n",
              "      <th>negative_score</th>\n",
              "      <th>Polarity_Score</th>\n",
              "      <th>subjectiivity_score</th>\n",
              "      <th>avg_senetence_length</th>\n",
              "      <th>Percentage_of_Complex_words</th>\n",
              "      <th>Fog_Index</th>\n",
              "      <th>avg_no_of_words_per_sentence</th>\n",
              "      <th>complex_Word_Count</th>\n",
              "      <th>word_count</th>\n",
              "      <th>syllable_count</th>\n",
              "      <th>personal_pronouns</th>\n",
              "      <th>avg_word_length</th>\n",
              "    </tr>\n",
              "  </thead>\n",
              "  <tbody>\n",
              "    <tr>\n",
              "      <th>0</th>\n",
              "      <td>81.0</td>\n",
              "      <td>34.0</td>\n",
              "      <td>0.408696</td>\n",
              "      <td>0.025796</td>\n",
              "      <td>155.090909</td>\n",
              "      <td>0.348518</td>\n",
              "      <td>62.175771</td>\n",
              "      <td>23.337662</td>\n",
              "      <td>635.0</td>\n",
              "      <td>1822.0</td>\n",
              "      <td>3924.0</td>\n",
              "      <td>1.0</td>\n",
              "      <td>5.610318</td>\n",
              "    </tr>\n",
              "  </tbody>\n",
              "</table>\n",
              "</div>\n",
              "      <button class=\"colab-df-convert\" onclick=\"convertToInteractive('df-a0626b22-f396-4256-b6ca-20af0956b38e')\"\n",
              "              title=\"Convert this dataframe to an interactive table.\"\n",
              "              style=\"display:none;\">\n",
              "        \n",
              "  <svg xmlns=\"http://www.w3.org/2000/svg\" height=\"24px\"viewBox=\"0 0 24 24\"\n",
              "       width=\"24px\">\n",
              "    <path d=\"M0 0h24v24H0V0z\" fill=\"none\"/>\n",
              "    <path d=\"M18.56 5.44l.94 2.06.94-2.06 2.06-.94-2.06-.94-.94-2.06-.94 2.06-2.06.94zm-11 1L8.5 8.5l.94-2.06 2.06-.94-2.06-.94L8.5 2.5l-.94 2.06-2.06.94zm10 10l.94 2.06.94-2.06 2.06-.94-2.06-.94-.94-2.06-.94 2.06-2.06.94z\"/><path d=\"M17.41 7.96l-1.37-1.37c-.4-.4-.92-.59-1.43-.59-.52 0-1.04.2-1.43.59L10.3 9.45l-7.72 7.72c-.78.78-.78 2.05 0 2.83L4 21.41c.39.39.9.59 1.41.59.51 0 1.02-.2 1.41-.59l7.78-7.78 2.81-2.81c.8-.78.8-2.07 0-2.86zM5.41 20L4 18.59l7.72-7.72 1.47 1.35L5.41 20z\"/>\n",
              "  </svg>\n",
              "      </button>\n",
              "      \n",
              "  <style>\n",
              "    .colab-df-container {\n",
              "      display:flex;\n",
              "      flex-wrap:wrap;\n",
              "      gap: 12px;\n",
              "    }\n",
              "\n",
              "    .colab-df-convert {\n",
              "      background-color: #E8F0FE;\n",
              "      border: none;\n",
              "      border-radius: 50%;\n",
              "      cursor: pointer;\n",
              "      display: none;\n",
              "      fill: #1967D2;\n",
              "      height: 32px;\n",
              "      padding: 0 0 0 0;\n",
              "      width: 32px;\n",
              "    }\n",
              "\n",
              "    .colab-df-convert:hover {\n",
              "      background-color: #E2EBFA;\n",
              "      box-shadow: 0px 1px 2px rgba(60, 64, 67, 0.3), 0px 1px 3px 1px rgba(60, 64, 67, 0.15);\n",
              "      fill: #174EA6;\n",
              "    }\n",
              "\n",
              "    [theme=dark] .colab-df-convert {\n",
              "      background-color: #3B4455;\n",
              "      fill: #D2E3FC;\n",
              "    }\n",
              "\n",
              "    [theme=dark] .colab-df-convert:hover {\n",
              "      background-color: #434B5C;\n",
              "      box-shadow: 0px 1px 3px 1px rgba(0, 0, 0, 0.15);\n",
              "      filter: drop-shadow(0px 1px 2px rgba(0, 0, 0, 0.3));\n",
              "      fill: #FFFFFF;\n",
              "    }\n",
              "  </style>\n",
              "\n",
              "      <script>\n",
              "        const buttonEl =\n",
              "          document.querySelector('#df-a0626b22-f396-4256-b6ca-20af0956b38e button.colab-df-convert');\n",
              "        buttonEl.style.display =\n",
              "          google.colab.kernel.accessAllowed ? 'block' : 'none';\n",
              "\n",
              "        async function convertToInteractive(key) {\n",
              "          const element = document.querySelector('#df-a0626b22-f396-4256-b6ca-20af0956b38e');\n",
              "          const dataTable =\n",
              "            await google.colab.kernel.invokeFunction('convertToInteractive',\n",
              "                                                     [key], {});\n",
              "          if (!dataTable) return;\n",
              "\n",
              "          const docLinkHtml = 'Like what you see? Visit the ' +\n",
              "            '<a target=\"_blank\" href=https://colab.research.google.com/notebooks/data_table.ipynb>data table notebook</a>'\n",
              "            + ' to learn more about interactive tables.';\n",
              "          element.innerHTML = '';\n",
              "          dataTable['output_type'] = 'display_data';\n",
              "          await google.colab.output.renderOutput(dataTable, element);\n",
              "          const docLink = document.createElement('div');\n",
              "          docLink.innerHTML = docLinkHtml;\n",
              "          element.appendChild(docLink);\n",
              "        }\n",
              "      </script>\n",
              "    </div>\n",
              "  </div>\n",
              "  "
            ]
          },
          "metadata": {},
          "execution_count": 56
        }
      ]
    },
    {
      "cell_type": "code",
      "source": [
        "with open('output.csv', 'a') as f:#creating text file \n",
        "    output.to_csv(f, index=False, header=False)\n",
        "files.download('output.csv')"
      ],
      "metadata": {
        "colab": {
          "base_uri": "https://localhost:8080/",
          "height": 17
        },
        "id": "kRbUVPUOPhk-",
        "outputId": "80db9259-d700-4921-cc1e-51f66347f41d"
      },
      "execution_count": null,
      "outputs": [
        {
          "output_type": "display_data",
          "data": {
            "text/plain": [
              "<IPython.core.display.Javascript object>"
            ],
            "application/javascript": [
              "\n",
              "    async function download(id, filename, size) {\n",
              "      if (!google.colab.kernel.accessAllowed) {\n",
              "        return;\n",
              "      }\n",
              "      const div = document.createElement('div');\n",
              "      const label = document.createElement('label');\n",
              "      label.textContent = `Downloading \"${filename}\": `;\n",
              "      div.appendChild(label);\n",
              "      const progress = document.createElement('progress');\n",
              "      progress.max = size;\n",
              "      div.appendChild(progress);\n",
              "      document.body.appendChild(div);\n",
              "\n",
              "      const buffers = [];\n",
              "      let downloaded = 0;\n",
              "\n",
              "      const channel = await google.colab.kernel.comms.open(id);\n",
              "      // Send a message to notify the kernel that we're ready.\n",
              "      channel.send({})\n",
              "\n",
              "      for await (const message of channel.messages) {\n",
              "        // Send a message to notify the kernel that we're ready.\n",
              "        channel.send({})\n",
              "        if (message.buffers) {\n",
              "          for (const buffer of message.buffers) {\n",
              "            buffers.push(buffer);\n",
              "            downloaded += buffer.byteLength;\n",
              "            progress.value = downloaded;\n",
              "          }\n",
              "        }\n",
              "      }\n",
              "      const blob = new Blob(buffers, {type: 'application/binary'});\n",
              "      const a = document.createElement('a');\n",
              "      a.href = window.URL.createObjectURL(blob);\n",
              "      a.download = filename;\n",
              "      div.appendChild(a);\n",
              "      a.click();\n",
              "      div.remove();\n",
              "    }\n",
              "  "
            ]
          },
          "metadata": {}
        },
        {
          "output_type": "display_data",
          "data": {
            "text/plain": [
              "<IPython.core.display.Javascript object>"
            ],
            "application/javascript": [
              "download(\"download_53a96b95-861a-4724-88aa-d71a00889a1b\", \"output.csv\", 167)"
            ]
          },
          "metadata": {}
        }
      ]
    }
  ]
}